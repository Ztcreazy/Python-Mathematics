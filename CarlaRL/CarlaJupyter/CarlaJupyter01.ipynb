{
 "cells": [
  {
   "cell_type": "code",
   "execution_count": 1,
   "id": "3697b83b",
   "metadata": {},
   "outputs": [
    {
     "name": "stdout",
     "output_type": "stream",
     "text": [
      "C:\\Users\\14404\\anaconda3\\envs\\tf\\lib\\site-packages\\carla\\__init__.py\n"
     ]
    }
   ],
   "source": [
    "import carla\n",
    "print(carla.__file__)\n",
    "import random\n"
   ]
  },
  {
   "cell_type": "code",
   "execution_count": 2,
   "id": "014e01b1",
   "metadata": {},
   "outputs": [],
   "source": [
    "client = carla.Client('localhost', 2000)\n",
    "\n",
    "world = client.get_world()\n",
    "spawn_points = world.get_map().get_spawn_points()\n",
    "\n",
    "vehicle_bp = world.get_blueprint_library().filter('*firetruck*')\n",
    "start_point = spawn_points[0]\n",
    "vehicle = world.try_spawn_actor(vehicle_bp[0], start_point)"
   ]
  },
  {
   "cell_type": "code",
   "execution_count": 3,
   "id": "6ed5f257",
   "metadata": {},
   "outputs": [
    {
     "name": "stdout",
     "output_type": "stream",
     "text": [
      "Transform(Location(x=-64.644844, y=24.471264, z=-0.001234), Rotation(pitch=-0.000034, yaw=0.159198, roll=0.000047))\n"
     ]
    }
   ],
   "source": [
    "# get the car's position on the map \n",
    "vehicle_pos = vehicle.get_transform()\n",
    "print(vehicle_pos)"
   ]
  },
  {
   "cell_type": "code",
   "execution_count": 4,
   "id": "bb43629f",
   "metadata": {},
   "outputs": [
    {
     "name": "stdout",
     "output_type": "stream",
     "text": [
      "Transform(Location(x=-64.644844, y=24.471010, z=0.600000), Rotation(pitch=0.000000, yaw=0.159198, roll=0.000000))\n"
     ]
    }
   ],
   "source": [
    "# initial spawn point is the same - just 0.6m higher off the ground\n",
    "print(start_point)"
   ]
  },
  {
   "cell_type": "code",
   "execution_count": 5,
   "id": "e0699ec9",
   "metadata": {},
   "outputs": [],
   "source": [
    "# send vehicle off\n",
    "vehicle.set_autopilot(True)\n"
   ]
  },
  {
   "cell_type": "code",
   "execution_count": 6,
   "id": "50e7b1ac",
   "metadata": {},
   "outputs": [
    {
     "name": "stdout",
     "output_type": "stream",
     "text": [
      "Transform(Location(x=-57.282505, y=22.889214, z=-0.003519), Rotation(pitch=0.030401, yaw=-15.440934, roll=0.208863))\n"
     ]
    }
   ],
   "source": [
    "# get actual position from the car moving\n",
    "vehicle_pos = vehicle.get_transform()\n",
    "print(vehicle_pos)\n"
   ]
  },
  {
   "cell_type": "code",
   "execution_count": 7,
   "id": "f7d3e94a",
   "metadata": {},
   "outputs": [],
   "source": [
    "# now look at the map\n",
    "town_map = world.get_map()\n"
   ]
  },
  {
   "cell_type": "code",
   "execution_count": 8,
   "id": "7df11671",
   "metadata": {},
   "outputs": [
    {
     "data": {
      "text/plain": [
       "carla.libcarla.Map"
      ]
     },
     "execution_count": 8,
     "metadata": {},
     "output_type": "execute_result"
    }
   ],
   "source": [
    "type(town_map)\n"
   ]
  },
  {
   "cell_type": "code",
   "execution_count": 9,
   "id": "d348dba4",
   "metadata": {},
   "outputs": [
    {
     "name": "stdout",
     "output_type": "stream",
     "text": [
      "Map(name=Carla/Maps/Town10HD_Opt)\n"
     ]
    }
   ],
   "source": [
    "print(town_map)\n"
   ]
  },
  {
   "cell_type": "code",
   "execution_count": 10,
   "id": "5272d948",
   "metadata": {},
   "outputs": [],
   "source": [
    "roads = town_map.get_topology()\n"
   ]
  },
  {
   "cell_type": "code",
   "execution_count": 11,
   "id": "4c44963b",
   "metadata": {},
   "outputs": [
    {
     "name": "stdout",
     "output_type": "stream",
     "text": [
      "[(<carla.libcarla.Waypoint object at 0x0000015C5F0C1B60>, <carla.libcarla.Waypoint object at 0x0000015C5F0C1BD0>), (<carla.libcarla.Waypoint object at 0x0000015C5F0C1C40>, <carla.libcarla.Waypoint object at 0x0000015C5F0C1CB0>), (<carla.libcarla.Waypoint object at 0x0000015C5F0C1D20>, <carla.libcarla.Waypoint object at 0x0000015C5F0C1D90>), (<carla.libcarla.Waypoint object at 0x0000015C5F0C1E00>, <carla.libcarla.Waypoint object at 0x0000015C5F0C1E70>), (<carla.libcarla.Waypoint object at 0x0000015C5F0C1EE0>, <carla.libcarla.Waypoint object at 0x0000015C5F0C1F50>), (<carla.libcarla.Waypoint object at 0x0000015C5F0C1FC0>, <carla.libcarla.Waypoint object at 0x0000015C5F0C2030>), (<carla.libcarla.Waypoint object at 0x0000015C5F0C20A0>, <carla.libcarla.Waypoint object at 0x0000015C5F0C2110>), (<carla.libcarla.Waypoint object at 0x0000015C5F0C2180>, <carla.libcarla.Waypoint object at 0x0000015C5F0C21F0>), (<carla.libcarla.Waypoint object at 0x0000015C5F0C2260>, <carla.libcarla.Waypoint object at 0x0000015C5F0C22D0>), (<carla.libcarla.Waypoint object at 0x0000015C5F0C2340>, <carla.libcarla.Waypoint object at 0x0000015C5F0C23B0>), (<carla.libcarla.Waypoint object at 0x0000015C5F0C2420>, <carla.libcarla.Waypoint object at 0x0000015C5F0C2490>), (<carla.libcarla.Waypoint object at 0x0000015C5F0C2500>, <carla.libcarla.Waypoint object at 0x0000015C5F0C2570>), (<carla.libcarla.Waypoint object at 0x0000015C5F0C25E0>, <carla.libcarla.Waypoint object at 0x0000015C5F0C2650>), (<carla.libcarla.Waypoint object at 0x0000015C5F0C26C0>, <carla.libcarla.Waypoint object at 0x0000015C5F0C2730>), (<carla.libcarla.Waypoint object at 0x0000015C5F0C27A0>, <carla.libcarla.Waypoint object at 0x0000015C5F0C2810>), (<carla.libcarla.Waypoint object at 0x0000015C5F0C2880>, <carla.libcarla.Waypoint object at 0x0000015C5F0C28F0>), (<carla.libcarla.Waypoint object at 0x0000015C5F0C2960>, <carla.libcarla.Waypoint object at 0x0000015C5F0C29D0>), (<carla.libcarla.Waypoint object at 0x0000015C5F0C2A40>, <carla.libcarla.Waypoint object at 0x0000015C5F0C2AB0>), (<carla.libcarla.Waypoint object at 0x0000015C5F0C2B20>, <carla.libcarla.Waypoint object at 0x0000015C5F0C2B90>), (<carla.libcarla.Waypoint object at 0x0000015C5F0C2C00>, <carla.libcarla.Waypoint object at 0x0000015C5F0C2C70>), (<carla.libcarla.Waypoint object at 0x0000015C5F0C2CE0>, <carla.libcarla.Waypoint object at 0x0000015C5F0C2D50>), (<carla.libcarla.Waypoint object at 0x0000015C5F0C2DC0>, <carla.libcarla.Waypoint object at 0x0000015C5F0C2E30>), (<carla.libcarla.Waypoint object at 0x0000015C5F0C2EA0>, <carla.libcarla.Waypoint object at 0x0000015C5F0C2F10>), (<carla.libcarla.Waypoint object at 0x0000015C5F0C2F80>, <carla.libcarla.Waypoint object at 0x0000015C5F0C2FF0>), (<carla.libcarla.Waypoint object at 0x0000015C5F0C3060>, <carla.libcarla.Waypoint object at 0x0000015C5F0C30D0>), (<carla.libcarla.Waypoint object at 0x0000015C5F0C3140>, <carla.libcarla.Waypoint object at 0x0000015C5F0C31B0>), (<carla.libcarla.Waypoint object at 0x0000015C5F0C3220>, <carla.libcarla.Waypoint object at 0x0000015C5F0C3290>), (<carla.libcarla.Waypoint object at 0x0000015C5F0C3300>, <carla.libcarla.Waypoint object at 0x0000015C5F0C3370>), (<carla.libcarla.Waypoint object at 0x0000015C5F0C33E0>, <carla.libcarla.Waypoint object at 0x0000015C5F0C3450>), (<carla.libcarla.Waypoint object at 0x0000015C5F0C34C0>, <carla.libcarla.Waypoint object at 0x0000015C5F0C3530>), (<carla.libcarla.Waypoint object at 0x0000015C5F0C35A0>, <carla.libcarla.Waypoint object at 0x0000015C5F0C3610>), (<carla.libcarla.Waypoint object at 0x0000015C5F0C3680>, <carla.libcarla.Waypoint object at 0x0000015C5F0C36F0>), (<carla.libcarla.Waypoint object at 0x0000015C5F0C3760>, <carla.libcarla.Waypoint object at 0x0000015C5F0C37D0>), (<carla.libcarla.Waypoint object at 0x0000015C5F0C3840>, <carla.libcarla.Waypoint object at 0x0000015C5F0C38B0>), (<carla.libcarla.Waypoint object at 0x0000015C5F0C3920>, <carla.libcarla.Waypoint object at 0x0000015C5F0C3990>), (<carla.libcarla.Waypoint object at 0x0000015C5F0C3A00>, <carla.libcarla.Waypoint object at 0x0000015C5F0C3A70>), (<carla.libcarla.Waypoint object at 0x0000015C5F0C3AE0>, <carla.libcarla.Waypoint object at 0x0000015C5F0C3B50>), (<carla.libcarla.Waypoint object at 0x0000015C5F0C3BC0>, <carla.libcarla.Waypoint object at 0x0000015C5F0C3C30>), (<carla.libcarla.Waypoint object at 0x0000015C5F0C3CA0>, <carla.libcarla.Waypoint object at 0x0000015C5F0C3D10>), (<carla.libcarla.Waypoint object at 0x0000015C5F0C3D80>, <carla.libcarla.Waypoint object at 0x0000015C5F0C3DF0>), (<carla.libcarla.Waypoint object at 0x0000015C5F0C3E60>, <carla.libcarla.Waypoint object at 0x0000015C5F0C3ED0>), (<carla.libcarla.Waypoint object at 0x0000015C5F0C3F40>, <carla.libcarla.Waypoint object at 0x0000015C5F150040>), (<carla.libcarla.Waypoint object at 0x0000015C5F1500B0>, <carla.libcarla.Waypoint object at 0x0000015C5F150120>), (<carla.libcarla.Waypoint object at 0x0000015C5F150190>, <carla.libcarla.Waypoint object at 0x0000015C5F150200>), (<carla.libcarla.Waypoint object at 0x0000015C5F150270>, <carla.libcarla.Waypoint object at 0x0000015C5F1502E0>), (<carla.libcarla.Waypoint object at 0x0000015C5F150350>, <carla.libcarla.Waypoint object at 0x0000015C5F1503C0>), (<carla.libcarla.Waypoint object at 0x0000015C5F150430>, <carla.libcarla.Waypoint object at 0x0000015C5F1504A0>), (<carla.libcarla.Waypoint object at 0x0000015C5F150510>, <carla.libcarla.Waypoint object at 0x0000015C5F150580>), (<carla.libcarla.Waypoint object at 0x0000015C5F1505F0>, <carla.libcarla.Waypoint object at 0x0000015C5F150660>), (<carla.libcarla.Waypoint object at 0x0000015C5F1506D0>, <carla.libcarla.Waypoint object at 0x0000015C5F150740>), (<carla.libcarla.Waypoint object at 0x0000015C5F1507B0>, <carla.libcarla.Waypoint object at 0x0000015C5F150820>), (<carla.libcarla.Waypoint object at 0x0000015C5F150890>, <carla.libcarla.Waypoint object at 0x0000015C5F150900>), (<carla.libcarla.Waypoint object at 0x0000015C5F150970>, <carla.libcarla.Waypoint object at 0x0000015C5F1509E0>), (<carla.libcarla.Waypoint object at 0x0000015C5F150A50>, <carla.libcarla.Waypoint object at 0x0000015C5F150AC0>), (<carla.libcarla.Waypoint object at 0x0000015C5F150B30>, <carla.libcarla.Waypoint object at 0x0000015C5F150BA0>), (<carla.libcarla.Waypoint object at 0x0000015C5F150C10>, <carla.libcarla.Waypoint object at 0x0000015C5F150C80>), (<carla.libcarla.Waypoint object at 0x0000015C5F150CF0>, <carla.libcarla.Waypoint object at 0x0000015C5F150D60>), (<carla.libcarla.Waypoint object at 0x0000015C5F150DD0>, <carla.libcarla.Waypoint object at 0x0000015C5F150E40>), (<carla.libcarla.Waypoint object at 0x0000015C5F150EB0>, <carla.libcarla.Waypoint object at 0x0000015C5F150F20>), (<carla.libcarla.Waypoint object at 0x0000015C5F150F90>, <carla.libcarla.Waypoint object at 0x0000015C5F151000>), (<carla.libcarla.Waypoint object at 0x0000015C5F151070>, <carla.libcarla.Waypoint object at 0x0000015C5F1510E0>), (<carla.libcarla.Waypoint object at 0x0000015C5F151150>, <carla.libcarla.Waypoint object at 0x0000015C5F1511C0>), (<carla.libcarla.Waypoint object at 0x0000015C5F151230>, <carla.libcarla.Waypoint object at 0x0000015C5F1512A0>), (<carla.libcarla.Waypoint object at 0x0000015C5F151310>, <carla.libcarla.Waypoint object at 0x0000015C5F151380>), (<carla.libcarla.Waypoint object at 0x0000015C5F1513F0>, <carla.libcarla.Waypoint object at 0x0000015C5F151460>), (<carla.libcarla.Waypoint object at 0x0000015C5F1514D0>, <carla.libcarla.Waypoint object at 0x0000015C5F151540>), (<carla.libcarla.Waypoint object at 0x0000015C5F1515B0>, <carla.libcarla.Waypoint object at 0x0000015C5F151620>), (<carla.libcarla.Waypoint object at 0x0000015C5F151690>, <carla.libcarla.Waypoint object at 0x0000015C5F151700>), (<carla.libcarla.Waypoint object at 0x0000015C5F151770>, <carla.libcarla.Waypoint object at 0x0000015C5F1517E0>), (<carla.libcarla.Waypoint object at 0x0000015C5F151850>, <carla.libcarla.Waypoint object at 0x0000015C5F1518C0>), (<carla.libcarla.Waypoint object at 0x0000015C5F151930>, <carla.libcarla.Waypoint object at 0x0000015C5F1519A0>), (<carla.libcarla.Waypoint object at 0x0000015C5F151A10>, <carla.libcarla.Waypoint object at 0x0000015C5F151A80>), (<carla.libcarla.Waypoint object at 0x0000015C5F151AF0>, <carla.libcarla.Waypoint object at 0x0000015C5F151B60>), (<carla.libcarla.Waypoint object at 0x0000015C5F151BD0>, <carla.libcarla.Waypoint object at 0x0000015C5F151C40>), (<carla.libcarla.Waypoint object at 0x0000015C5F151CB0>, <carla.libcarla.Waypoint object at 0x0000015C5F151D20>), (<carla.libcarla.Waypoint object at 0x0000015C5F151D90>, <carla.libcarla.Waypoint object at 0x0000015C5F151E00>), (<carla.libcarla.Waypoint object at 0x0000015C5F151E70>, <carla.libcarla.Waypoint object at 0x0000015C5F151EE0>), (<carla.libcarla.Waypoint object at 0x0000015C5F151F50>, <carla.libcarla.Waypoint object at 0x0000015C5F151FC0>), (<carla.libcarla.Waypoint object at 0x0000015C5F152030>, <carla.libcarla.Waypoint object at 0x0000015C5F1520A0>), (<carla.libcarla.Waypoint object at 0x0000015C5F152110>, <carla.libcarla.Waypoint object at 0x0000015C5F152180>), (<carla.libcarla.Waypoint object at 0x0000015C5F1521F0>, <carla.libcarla.Waypoint object at 0x0000015C5F152260>), (<carla.libcarla.Waypoint object at 0x0000015C5F1522D0>, <carla.libcarla.Waypoint object at 0x0000015C5F152340>), (<carla.libcarla.Waypoint object at 0x0000015C5F1523B0>, <carla.libcarla.Waypoint object at 0x0000015C5F152420>), (<carla.libcarla.Waypoint object at 0x0000015C5F152490>, <carla.libcarla.Waypoint object at 0x0000015C5F152500>), (<carla.libcarla.Waypoint object at 0x0000015C5F152570>, <carla.libcarla.Waypoint object at 0x0000015C5F1525E0>), (<carla.libcarla.Waypoint object at 0x0000015C5F152650>, <carla.libcarla.Waypoint object at 0x0000015C5F1526C0>), (<carla.libcarla.Waypoint object at 0x0000015C5F152730>, <carla.libcarla.Waypoint object at 0x0000015C5F1527A0>), (<carla.libcarla.Waypoint object at 0x0000015C5F152810>, <carla.libcarla.Waypoint object at 0x0000015C5F152880>), (<carla.libcarla.Waypoint object at 0x0000015C5F1528F0>, <carla.libcarla.Waypoint object at 0x0000015C5F152960>), (<carla.libcarla.Waypoint object at 0x0000015C5F1529D0>, <carla.libcarla.Waypoint object at 0x0000015C5F152A40>), (<carla.libcarla.Waypoint object at 0x0000015C5F152AB0>, <carla.libcarla.Waypoint object at 0x0000015C5F152B20>), (<carla.libcarla.Waypoint object at 0x0000015C5F152B90>, <carla.libcarla.Waypoint object at 0x0000015C5F152C00>), (<carla.libcarla.Waypoint object at 0x0000015C5F152C70>, <carla.libcarla.Waypoint object at 0x0000015C5F152CE0>), (<carla.libcarla.Waypoint object at 0x0000015C5F152D50>, <carla.libcarla.Waypoint object at 0x0000015C5F152DC0>), (<carla.libcarla.Waypoint object at 0x0000015C5F152E30>, <carla.libcarla.Waypoint object at 0x0000015C5F152EA0>), (<carla.libcarla.Waypoint object at 0x0000015C5F152F10>, <carla.libcarla.Waypoint object at 0x0000015C5F152F80>), (<carla.libcarla.Waypoint object at 0x0000015C5F152FF0>, <carla.libcarla.Waypoint object at 0x0000015C5F153060>), (<carla.libcarla.Waypoint object at 0x0000015C5F1530D0>, <carla.libcarla.Waypoint object at 0x0000015C5F153140>), (<carla.libcarla.Waypoint object at 0x0000015C5F1531B0>, <carla.libcarla.Waypoint object at 0x0000015C5F153220>), (<carla.libcarla.Waypoint object at 0x0000015C5F153290>, <carla.libcarla.Waypoint object at 0x0000015C5F153300>), (<carla.libcarla.Waypoint object at 0x0000015C5F153370>, <carla.libcarla.Waypoint object at 0x0000015C5F1533E0>), (<carla.libcarla.Waypoint object at 0x0000015C5F153450>, <carla.libcarla.Waypoint object at 0x0000015C5F1534C0>), (<carla.libcarla.Waypoint object at 0x0000015C5F153530>, <carla.libcarla.Waypoint object at 0x0000015C5F1535A0>), (<carla.libcarla.Waypoint object at 0x0000015C5F153610>, <carla.libcarla.Waypoint object at 0x0000015C5F153680>), (<carla.libcarla.Waypoint object at 0x0000015C5F1536F0>, <carla.libcarla.Waypoint object at 0x0000015C5F153760>), (<carla.libcarla.Waypoint object at 0x0000015C5F1537D0>, <carla.libcarla.Waypoint object at 0x0000015C5F153840>), (<carla.libcarla.Waypoint object at 0x0000015C5F1538B0>, <carla.libcarla.Waypoint object at 0x0000015C5F153920>), (<carla.libcarla.Waypoint object at 0x0000015C5F153990>, <carla.libcarla.Waypoint object at 0x0000015C5F153A00>), (<carla.libcarla.Waypoint object at 0x0000015C5F153A70>, <carla.libcarla.Waypoint object at 0x0000015C5F153AE0>), (<carla.libcarla.Waypoint object at 0x0000015C5F153B50>, <carla.libcarla.Waypoint object at 0x0000015C5F153BC0>), (<carla.libcarla.Waypoint object at 0x0000015C5F153C30>, <carla.libcarla.Waypoint object at 0x0000015C5F153CA0>), (<carla.libcarla.Waypoint object at 0x0000015C5F153D10>, <carla.libcarla.Waypoint object at 0x0000015C5F153D80>), (<carla.libcarla.Waypoint object at 0x0000015C5F153DF0>, <carla.libcarla.Waypoint object at 0x0000015C5F153E60>), (<carla.libcarla.Waypoint object at 0x0000015C5F153ED0>, <carla.libcarla.Waypoint object at 0x0000015C5F153F40>), (<carla.libcarla.Waypoint object at 0x0000015C5F154040>, <carla.libcarla.Waypoint object at 0x0000015C5F1540B0>), (<carla.libcarla.Waypoint object at 0x0000015C5F154120>, <carla.libcarla.Waypoint object at 0x0000015C5F154190>), (<carla.libcarla.Waypoint object at 0x0000015C5F154200>, <carla.libcarla.Waypoint object at 0x0000015C5F154270>), (<carla.libcarla.Waypoint object at 0x0000015C5F1542E0>, <carla.libcarla.Waypoint object at 0x0000015C5F154350>), (<carla.libcarla.Waypoint object at 0x0000015C5F1543C0>, <carla.libcarla.Waypoint object at 0x0000015C5F154430>), (<carla.libcarla.Waypoint object at 0x0000015C5F1544A0>, <carla.libcarla.Waypoint object at 0x0000015C5F154510>), (<carla.libcarla.Waypoint object at 0x0000015C5F154580>, <carla.libcarla.Waypoint object at 0x0000015C5F1545F0>), (<carla.libcarla.Waypoint object at 0x0000015C5F154660>, <carla.libcarla.Waypoint object at 0x0000015C5F1546D0>), (<carla.libcarla.Waypoint object at 0x0000015C5F154740>, <carla.libcarla.Waypoint object at 0x0000015C5F1547B0>), (<carla.libcarla.Waypoint object at 0x0000015C5F154820>, <carla.libcarla.Waypoint object at 0x0000015C5F154890>), (<carla.libcarla.Waypoint object at 0x0000015C5F154900>, <carla.libcarla.Waypoint object at 0x0000015C5F154970>), (<carla.libcarla.Waypoint object at 0x0000015C5F1549E0>, <carla.libcarla.Waypoint object at 0x0000015C5F154A50>), (<carla.libcarla.Waypoint object at 0x0000015C5F154AC0>, <carla.libcarla.Waypoint object at 0x0000015C5F154B30>), (<carla.libcarla.Waypoint object at 0x0000015C5F154BA0>, <carla.libcarla.Waypoint object at 0x0000015C5F154C10>), (<carla.libcarla.Waypoint object at 0x0000015C5F154C80>, <carla.libcarla.Waypoint object at 0x0000015C5F154CF0>), (<carla.libcarla.Waypoint object at 0x0000015C5F154D60>, <carla.libcarla.Waypoint object at 0x0000015C5F154DD0>), (<carla.libcarla.Waypoint object at 0x0000015C5F154E40>, <carla.libcarla.Waypoint object at 0x0000015C5F154EB0>), (<carla.libcarla.Waypoint object at 0x0000015C5F154F20>, <carla.libcarla.Waypoint object at 0x0000015C5F154F90>), (<carla.libcarla.Waypoint object at 0x0000015C5F155000>, <carla.libcarla.Waypoint object at 0x0000015C5F155070>), (<carla.libcarla.Waypoint object at 0x0000015C5F1550E0>, <carla.libcarla.Waypoint object at 0x0000015C5F155150>), (<carla.libcarla.Waypoint object at 0x0000015C5F1551C0>, <carla.libcarla.Waypoint object at 0x0000015C5F155230>), (<carla.libcarla.Waypoint object at 0x0000015C5F1552A0>, <carla.libcarla.Waypoint object at 0x0000015C5F155310>), (<carla.libcarla.Waypoint object at 0x0000015C5F155380>, <carla.libcarla.Waypoint object at 0x0000015C5F1553F0>), (<carla.libcarla.Waypoint object at 0x0000015C5F155460>, <carla.libcarla.Waypoint object at 0x0000015C5F1554D0>), (<carla.libcarla.Waypoint object at 0x0000015C5F155540>, <carla.libcarla.Waypoint object at 0x0000015C5F1555B0>), (<carla.libcarla.Waypoint object at 0x0000015C5F155620>, <carla.libcarla.Waypoint object at 0x0000015C5F155690>), (<carla.libcarla.Waypoint object at 0x0000015C5F155700>, <carla.libcarla.Waypoint object at 0x0000015C5F155770>), (<carla.libcarla.Waypoint object at 0x0000015C5F1557E0>, <carla.libcarla.Waypoint object at 0x0000015C5F155850>), (<carla.libcarla.Waypoint object at 0x0000015C5F1558C0>, <carla.libcarla.Waypoint object at 0x0000015C5F155930>), (<carla.libcarla.Waypoint object at 0x0000015C5F1559A0>, <carla.libcarla.Waypoint object at 0x0000015C5F155A10>), (<carla.libcarla.Waypoint object at 0x0000015C5F155A80>, <carla.libcarla.Waypoint object at 0x0000015C5F155AF0>), (<carla.libcarla.Waypoint object at 0x0000015C5F155B60>, <carla.libcarla.Waypoint object at 0x0000015C5F155BD0>), (<carla.libcarla.Waypoint object at 0x0000015C5F155C40>, <carla.libcarla.Waypoint object at 0x0000015C5F155CB0>), (<carla.libcarla.Waypoint object at 0x0000015C5F155D20>, <carla.libcarla.Waypoint object at 0x0000015C5F155D90>), (<carla.libcarla.Waypoint object at 0x0000015C5F155E00>, <carla.libcarla.Waypoint object at 0x0000015C5F155E70>), (<carla.libcarla.Waypoint object at 0x0000015C5F155EE0>, <carla.libcarla.Waypoint object at 0x0000015C5F155F50>), (<carla.libcarla.Waypoint object at 0x0000015C5F155FC0>, <carla.libcarla.Waypoint object at 0x0000015C5F156030>), (<carla.libcarla.Waypoint object at 0x0000015C5F1560A0>, <carla.libcarla.Waypoint object at 0x0000015C5F156110>), (<carla.libcarla.Waypoint object at 0x0000015C5F156180>, <carla.libcarla.Waypoint object at 0x0000015C5F1561F0>), (<carla.libcarla.Waypoint object at 0x0000015C5F156260>, <carla.libcarla.Waypoint object at 0x0000015C5F1562D0>), (<carla.libcarla.Waypoint object at 0x0000015C5F156340>, <carla.libcarla.Waypoint object at 0x0000015C5F1563B0>), (<carla.libcarla.Waypoint object at 0x0000015C5F156420>, <carla.libcarla.Waypoint object at 0x0000015C5F156490>), (<carla.libcarla.Waypoint object at 0x0000015C5F156500>, <carla.libcarla.Waypoint object at 0x0000015C5F156570>), (<carla.libcarla.Waypoint object at 0x0000015C5F1565E0>, <carla.libcarla.Waypoint object at 0x0000015C5F156650>), (<carla.libcarla.Waypoint object at 0x0000015C5F1566C0>, <carla.libcarla.Waypoint object at 0x0000015C5F156730>), (<carla.libcarla.Waypoint object at 0x0000015C5F1567A0>, <carla.libcarla.Waypoint object at 0x0000015C5F156810>), (<carla.libcarla.Waypoint object at 0x0000015C5F156880>, <carla.libcarla.Waypoint object at 0x0000015C5F1568F0>), (<carla.libcarla.Waypoint object at 0x0000015C5F156960>, <carla.libcarla.Waypoint object at 0x0000015C5F1569D0>), (<carla.libcarla.Waypoint object at 0x0000015C5F156A40>, <carla.libcarla.Waypoint object at 0x0000015C5F156AB0>), (<carla.libcarla.Waypoint object at 0x0000015C5F156B20>, <carla.libcarla.Waypoint object at 0x0000015C5F156B90>), (<carla.libcarla.Waypoint object at 0x0000015C5F156C00>, <carla.libcarla.Waypoint object at 0x0000015C5F156C70>), (<carla.libcarla.Waypoint object at 0x0000015C5F156CE0>, <carla.libcarla.Waypoint object at 0x0000015C5F156D50>), (<carla.libcarla.Waypoint object at 0x0000015C5F156DC0>, <carla.libcarla.Waypoint object at 0x0000015C5F156E30>), (<carla.libcarla.Waypoint object at 0x0000015C5F156EA0>, <carla.libcarla.Waypoint object at 0x0000015C5F156F10>), (<carla.libcarla.Waypoint object at 0x0000015C5F156F80>, <carla.libcarla.Waypoint object at 0x0000015C5F156FF0>), (<carla.libcarla.Waypoint object at 0x0000015C5F157060>, <carla.libcarla.Waypoint object at 0x0000015C5F1570D0>), (<carla.libcarla.Waypoint object at 0x0000015C5F157140>, <carla.libcarla.Waypoint object at 0x0000015C5F1571B0>), (<carla.libcarla.Waypoint object at 0x0000015C5F157220>, <carla.libcarla.Waypoint object at 0x0000015C5F157290>), (<carla.libcarla.Waypoint object at 0x0000015C5F157300>, <carla.libcarla.Waypoint object at 0x0000015C5F157370>), (<carla.libcarla.Waypoint object at 0x0000015C5F1573E0>, <carla.libcarla.Waypoint object at 0x0000015C5F157450>), (<carla.libcarla.Waypoint object at 0x0000015C5F1574C0>, <carla.libcarla.Waypoint object at 0x0000015C5F157530>), (<carla.libcarla.Waypoint object at 0x0000015C5F1575A0>, <carla.libcarla.Waypoint object at 0x0000015C5F157610>), (<carla.libcarla.Waypoint object at 0x0000015C5F157680>, <carla.libcarla.Waypoint object at 0x0000015C5F1576F0>), (<carla.libcarla.Waypoint object at 0x0000015C5F157760>, <carla.libcarla.Waypoint object at 0x0000015C5F1577D0>), (<carla.libcarla.Waypoint object at 0x0000015C5F157840>, <carla.libcarla.Waypoint object at 0x0000015C5F1578B0>), (<carla.libcarla.Waypoint object at 0x0000015C5F157920>, <carla.libcarla.Waypoint object at 0x0000015C5F157990>), (<carla.libcarla.Waypoint object at 0x0000015C5F157A00>, <carla.libcarla.Waypoint object at 0x0000015C5F157A70>), (<carla.libcarla.Waypoint object at 0x0000015C5F157AE0>, <carla.libcarla.Waypoint object at 0x0000015C5F157B50>), (<carla.libcarla.Waypoint object at 0x0000015C5F157BC0>, <carla.libcarla.Waypoint object at 0x0000015C5F157C30>), (<carla.libcarla.Waypoint object at 0x0000015C5F157CA0>, <carla.libcarla.Waypoint object at 0x0000015C5F157D10>), (<carla.libcarla.Waypoint object at 0x0000015C5F157D80>, <carla.libcarla.Waypoint object at 0x0000015C5F157DF0>), (<carla.libcarla.Waypoint object at 0x0000015C5F157E60>, <carla.libcarla.Waypoint object at 0x0000015C5F157ED0>), (<carla.libcarla.Waypoint object at 0x0000015C5F157F40>, <carla.libcarla.Waypoint object at 0x0000015C5F158040>), (<carla.libcarla.Waypoint object at 0x0000015C5F1580B0>, <carla.libcarla.Waypoint object at 0x0000015C5F158120>), (<carla.libcarla.Waypoint object at 0x0000015C5F158190>, <carla.libcarla.Waypoint object at 0x0000015C5F158200>), (<carla.libcarla.Waypoint object at 0x0000015C5F158270>, <carla.libcarla.Waypoint object at 0x0000015C5F1582E0>), (<carla.libcarla.Waypoint object at 0x0000015C5F158350>, <carla.libcarla.Waypoint object at 0x0000015C5F1583C0>), (<carla.libcarla.Waypoint object at 0x0000015C5F158430>, <carla.libcarla.Waypoint object at 0x0000015C5F1584A0>), (<carla.libcarla.Waypoint object at 0x0000015C5F158510>, <carla.libcarla.Waypoint object at 0x0000015C5F158580>), (<carla.libcarla.Waypoint object at 0x0000015C5F1585F0>, <carla.libcarla.Waypoint object at 0x0000015C5F158660>), (<carla.libcarla.Waypoint object at 0x0000015C5F1586D0>, <carla.libcarla.Waypoint object at 0x0000015C5F158740>), (<carla.libcarla.Waypoint object at 0x0000015C5F1587B0>, <carla.libcarla.Waypoint object at 0x0000015C5F158820>), (<carla.libcarla.Waypoint object at 0x0000015C5F158890>, <carla.libcarla.Waypoint object at 0x0000015C5F158900>), (<carla.libcarla.Waypoint object at 0x0000015C5F158970>, <carla.libcarla.Waypoint object at 0x0000015C5F1589E0>), (<carla.libcarla.Waypoint object at 0x0000015C5F158A50>, <carla.libcarla.Waypoint object at 0x0000015C5F158AC0>), (<carla.libcarla.Waypoint object at 0x0000015C5F158B30>, <carla.libcarla.Waypoint object at 0x0000015C5F158BA0>)]\n"
     ]
    }
   ],
   "source": [
    "print(roads)"
   ]
  },
  {
   "cell_type": "code",
   "execution_count": 12,
   "id": "e8bd2852",
   "metadata": {},
   "outputs": [
    {
     "name": "stdout",
     "output_type": "stream",
     "text": [
      "Waypoint(Transform(Location(x=109.929878, y=-9.334196, z=0.000000), Rotation(pitch=0.000000, yaw=-89.609253, roll=0.000000)))\n"
     ]
    }
   ],
   "source": [
    "#have a look at a waypoint - it is transform wrapped as a waypoint\n",
    "print(roads[0][0])\n"
   ]
  },
  {
   "cell_type": "code",
   "execution_count": 13,
   "id": "ebee4217",
   "metadata": {},
   "outputs": [
    {
     "data": {
      "text/plain": [
       "200"
      ]
     },
     "execution_count": 13,
     "metadata": {},
     "output_type": "execute_result"
    }
   ],
   "source": [
    "len(roads)\n"
   ]
  },
  {
   "cell_type": "code",
   "execution_count": 14,
   "id": "9c227490",
   "metadata": {},
   "outputs": [],
   "source": [
    "# making a route\n",
    "# from one position to another\n",
    "# import some code coming with the sim\n",
    "import sys\n",
    "sys.path.append('C:/Users/14404/CARLA_0.9.15/WindowsNoEditor/PythonAPI/carla')\n",
    "from agents.navigation.global_route_planner import GlobalRoutePlanner\n"
   ]
  },
  {
   "cell_type": "code",
   "execution_count": 15,
   "id": "0a052fa8",
   "metadata": {},
   "outputs": [],
   "source": [
    "# utility script of destruction\n",
    "\n",
    "for actor in world.get_actors().filter('*vehicle*'):\n",
    "    actor.destroy()\n",
    "for sensor in world.get_actors().filter('*sensor*'):\n",
    "    sensor.destroy()"
   ]
  },
  {
   "cell_type": "code",
   "execution_count": 16,
   "id": "898451eb",
   "metadata": {},
   "outputs": [],
   "source": [
    "# using the code to plan the route and then draw it in the simulator\n",
    "\n",
    "sampling_resolution = 2\n",
    "grp = GlobalRoutePlanner(town_map, sampling_resolution)\n",
    "point_a = carla.Location(x=-64.644844, y=24.471010, z=0.600000)\n",
    "point_b = carla.Location(x=109.929878, y=-9.334196, z=0.000000)\n",
    "\n",
    "route = grp.trace_route(point_a, point_b)\n",
    "\n",
    "for waypoint in route:\n",
    "    world.debug.draw_string(waypoint[0].transform.location, '^', draw_shadow=False,\n",
    "    color = carla.Color(r = 0, g = 0, b = 255), life_time = 120,\n",
    "    persistent_lines = True)"
   ]
  },
  {
   "cell_type": "code",
   "execution_count": 17,
   "id": "4f336c94",
   "metadata": {},
   "outputs": [],
   "source": [
    "# now we define 2 cars\n",
    "truck_bp = world.get_blueprint_library().filter('*firetruck*')\n",
    "mini_bp = world.get_blueprint_library().filter('*cooper_s*')\n",
    "\n",
    "# start first car in already defined start point\n",
    "truck = world.try_spawn_actor(truck_bp[0],start_point)\n"
   ]
  },
  {
   "cell_type": "code",
   "execution_count": 18,
   "id": "8cf90ef5",
   "metadata": {},
   "outputs": [],
   "source": [
    "# tweak spectator position to watch the show\n",
    "\n",
    "spectator = world.get_spectator()\n",
    "spawn_points = world.get_map().get_spawn_points()\n",
    "start_point = spawn_points[0]\n",
    "\n",
    "spectator_pos = carla.Transform(start_point.location + carla.Location(x=20,y=10,z=4),\n",
    "                                carla.Rotation(yaw = start_point.rotation.yaw -155))\n",
    "\n",
    "spectator.set_transform(spectator_pos)\n"
   ]
  },
  {
   "cell_type": "code",
   "execution_count": 19,
   "id": "56441a52",
   "metadata": {},
   "outputs": [],
   "source": [
    "# drop the Mini the sky - watch what happens after\n",
    "\n",
    "#spawn it first somewhere else\n",
    "mini = world.try_spawn_actor(mini_bp[0], spawn_points[10])\n",
    "\n",
    "mini_pos = carla.Transform(start_point.location + carla.Location(x=-4,z=10),\n",
    "                            carla.Rotation(yaw = start_point.rotation.yaw - 0))\n",
    "mini.set_transform(mini_pos)"
   ]
  },
  {
   "cell_type": "code",
   "execution_count": 20,
   "id": "b4055041",
   "metadata": {},
   "outputs": [],
   "source": [
    "import time\n",
    "for actor in world.get_actors().filter('*vehicle*'):\n",
    "    actor.destroy()\n",
    "for sensor in world.get_actors().filter('*sensor*'):\n",
    "    sensor.destroy()\n",
    "# now we define 2 cars\n",
    "truck_bp = world.get_blueprint_library().filter('*firetruck*')\n",
    "mini_bp = world.get_blueprint_library().filter('*cooper_s*')\n",
    "\n",
    "#start first car in alredy defined start point\n",
    "truck = world.try_spawn_actor(truck_bp[0], start_point)\n",
    "time.sleep(3)\n",
    "\n",
    "vw_bp = world.get_blueprint_library().filter('*volkswagen*')\n",
    "\n",
    "vw = world.try_spawn_actor(vw_bp[0], spawn_points[20])\n",
    "vw_pos = carla.Transform(start_point.location + carla.Location(x=1,z=6),\n",
    "                            carla.Rotation(yaw = start_point.rotation.yaw - 0))\n",
    "vw.set_transform(vw_pos)\n",
    "mini = world.try_spawn_actor(mini_bp[0], spawn_points[10])\n",
    "\n",
    "mini_pos = carla.Transform(start_point.location + carla.Location(x=1,z=10),\n",
    "                            carla.Rotation(yaw = start_point.rotation.yaw - 0))\n",
    "mini.set_transform(mini_pos)"
   ]
  },
  {
   "cell_type": "code",
   "execution_count": 21,
   "id": "26d6dc60",
   "metadata": {},
   "outputs": [],
   "source": [
    "vw_bp = world.get_blueprint_library().filter('*volkswagen*')"
   ]
  },
  {
   "cell_type": "code",
   "execution_count": 22,
   "id": "614d93cd",
   "metadata": {},
   "outputs": [
    {
     "name": "stdout",
     "output_type": "stream",
     "text": [
      "[ActorBlueprint(id=vehicle.nissan.micra,tags=[vehicle, nissan, micra]), ActorBlueprint(id=vehicle.audi.a2,tags=[vehicle, audi, a2]), ActorBlueprint(id=static.prop.plantpot04,tags=[static, prop, plantpot04]), ActorBlueprint(id=static.prop.bench02,tags=[bench02, static, prop]), ActorBlueprint(id=vehicle.mercedes.coupe_2020,tags=[vehicle, mercedes, coupe_2020]), ActorBlueprint(id=vehicle.audi.tt,tags=[vehicle, audi, tt]), ActorBlueprint(id=walker.pedestrian.0037,tags=[0037, walker, pedestrian]), ActorBlueprint(id=vehicle.harley-davidson.low_rider,tags=[harley-davidson, vehicle, low_rider]), ActorBlueprint(id=vehicle.bmw.grandtourer,tags=[vehicle, bmw, grandtourer]), ActorBlueprint(id=static.prop.trashcan05,tags=[static, prop, trashcan05]), ActorBlueprint(id=walker.pedestrian.0038,tags=[walker, pedestrian, 0038]), ActorBlueprint(id=vehicle.carlamotors.firetruck,tags=[vehicle, carlamotors, firetruck]), ActorBlueprint(id=vehicle.micro.microlino,tags=[vehicle, microlino, micro]), ActorBlueprint(id=vehicle.carlamotors.carlacola,tags=[vehicle, carlamotors, carlacola]), ActorBlueprint(id=vehicle.carlamotors.european_hgv,tags=[vehicle, carlamotors, european_hgv]), ActorBlueprint(id=vehicle.ford.mustang,tags=[vehicle, ford, mustang]), ActorBlueprint(id=vehicle.chevrolet.impala,tags=[impala, chevrolet, vehicle]), ActorBlueprint(id=vehicle.citroen.c3,tags=[vehicle, c3, citroen]), ActorBlueprint(id=vehicle.dodge.charger_police,tags=[vehicle, charger_police, dodge]), ActorBlueprint(id=vehicle.jeep.wrangler_rubicon,tags=[vehicle, jeep, wrangler_rubicon]), ActorBlueprint(id=static.prop.kiosk_01,tags=[static, prop, kiosk_01]), ActorBlueprint(id=vehicle.mercedes.coupe,tags=[vehicle, mercedes, coupe]), ActorBlueprint(id=static.prop.bike helmet,tags=[static, prop, bike helmet]), ActorBlueprint(id=walker.pedestrian.0046,tags=[0046, walker, pedestrian]), ActorBlueprint(id=vehicle.mini.cooper_s,tags=[vehicle, mini, cooper_s]), ActorBlueprint(id=vehicle.nissan.patrol,tags=[vehicle, nissan, patrol]), ActorBlueprint(id=static.prop.plantpot06,tags=[plantpot06, static, prop]), ActorBlueprint(id=vehicle.seat.leon,tags=[vehicle, seat, leon]), ActorBlueprint(id=vehicle.toyota.prius,tags=[toyota, vehicle, prius]), ActorBlueprint(id=vehicle.yamaha.yzf,tags=[vehicle, yamaha, yzf]), ActorBlueprint(id=vehicle.kawasaki.ninja,tags=[vehicle, kawasaki, ninja]), ActorBlueprint(id=vehicle.bh.crossbike,tags=[bh, vehicle, crossbike]), ActorBlueprint(id=vehicle.gazelle.omafiets,tags=[gazelle, vehicle, omafiets]), ActorBlueprint(id=vehicle.tesla.cybertruck,tags=[vehicle, tesla, cybertruck]), ActorBlueprint(id=vehicle.diamondback.century,tags=[century, vehicle, diamondback]), ActorBlueprint(id=static.prop.barrel,tags=[static, prop, barrel]), ActorBlueprint(id=vehicle.audi.etron,tags=[vehicle, audi, etron]), ActorBlueprint(id=static.prop.streetsign,tags=[streetsign, static, prop]), ActorBlueprint(id=static.prop.plantpot02,tags=[static, prop, plantpot02]), ActorBlueprint(id=vehicle.mitsubishi.fusorosa,tags=[vehicle, mitsubishi, fusorosa]), ActorBlueprint(id=vehicle.tesla.model3,tags=[vehicle, tesla, model3]), ActorBlueprint(id=vehicle.volkswagen.t2,tags=[vehicle, volkswagen, t2]), ActorBlueprint(id=vehicle.lincoln.mkz_2017,tags=[vehicle, mkz_2017, lincoln]), ActorBlueprint(id=static.prop.glasscontainer,tags=[static, prop, glasscontainer]), ActorBlueprint(id=vehicle.lincoln.mkz_2020,tags=[vehicle, lincoln, mkz_2020]), ActorBlueprint(id=vehicle.dodge.charger_2020,tags=[vehicle, dodge, charger_2020]), ActorBlueprint(id=vehicle.dodge.charger_police_2020,tags=[vehicle, dodge, charger_police_2020]), ActorBlueprint(id=vehicle.ford.ambulance,tags=[vehicle, ford, ambulance]), ActorBlueprint(id=vehicle.vespa.zx125,tags=[zx125, vehicle, vespa]), ActorBlueprint(id=static.prop.creasedbox02,tags=[static, prop, creasedbox02]), ActorBlueprint(id=vehicle.mini.cooper_s_2021,tags=[vehicle, mini, cooper_s_2021]), ActorBlueprint(id=walker.pedestrian.0021,tags=[walker, 0021, pedestrian]), ActorBlueprint(id=vehicle.nissan.patrol_2021,tags=[patrol_2021, vehicle, nissan]), ActorBlueprint(id=walker.pedestrian.0031,tags=[walker, pedestrian, 0031]), ActorBlueprint(id=vehicle.mercedes.sprinter,tags=[vehicle, mercedes, sprinter]), ActorBlueprint(id=vehicle.ford.crown,tags=[vehicle, ford, crown]), ActorBlueprint(id=static.prop.pergola,tags=[static, prop, pergola]), ActorBlueprint(id=vehicle.volkswagen.t2_2021,tags=[t2_2021, vehicle, volkswagen]), ActorBlueprint(id=walker.pedestrian.0010,tags=[walker, 0010, pedestrian]), ActorBlueprint(id=sensor.other.collision,tags=[sensor, other, collision]), ActorBlueprint(id=sensor.camera.optical_flow,tags=[sensor, camera, optical_flow]), ActorBlueprint(id=sensor.camera.depth,tags=[sensor, camera, depth]), ActorBlueprint(id=static.prop.ironplank,tags=[static, prop, ironplank]), ActorBlueprint(id=sensor.camera.normals,tags=[normals, sensor, camera]), ActorBlueprint(id=static.prop.warningconstruction,tags=[static, prop, warningconstruction]), ActorBlueprint(id=sensor.camera.dvs,tags=[sensor, camera, dvs]), ActorBlueprint(id=sensor.other.gnss,tags=[sensor, other, gnss]), ActorBlueprint(id=walker.pedestrian.0013,tags=[walker, pedestrian, 0013]), ActorBlueprint(id=sensor.other.imu,tags=[sensor, other, imu]), ActorBlueprint(id=static.prop.platformgarbage01,tags=[static, prop, platformgarbage01]), ActorBlueprint(id=sensor.other.lane_invasion,tags=[lane_invasion, sensor, other]), ActorBlueprint(id=static.prop.doghouse,tags=[static, prop, doghouse]), ActorBlueprint(id=walker.pedestrian.0024,tags=[walker, pedestrian, 0024]), ActorBlueprint(id=sensor.other.obstacle,tags=[sensor, other, obstacle]), ActorBlueprint(id=static.prop.creasedbox01,tags=[static, prop, creasedbox01]), ActorBlueprint(id=sensor.other.radar,tags=[radar, sensor, other]), ActorBlueprint(id=sensor.lidar.ray_cast_semantic,tags=[sensor, lidar, ray_cast_semantic]), ActorBlueprint(id=walker.pedestrian.0007,tags=[walker, pedestrian, 0007]), ActorBlueprint(id=sensor.lidar.ray_cast,tags=[sensor, lidar, ray_cast]), ActorBlueprint(id=static.prop.trashcan03,tags=[static, prop, trashcan03]), ActorBlueprint(id=sensor.other.rss,tags=[rss, sensor, other]), ActorBlueprint(id=util.actor.empty,tags=[util, actor, empty]), ActorBlueprint(id=sensor.camera.rgb,tags=[sensor, camera, rgb]), ActorBlueprint(id=sensor.camera.semantic_segmentation,tags=[sensor, camera, semantic_segmentation]), ActorBlueprint(id=static.prop.dirtdebris02,tags=[static, prop, dirtdebris02]), ActorBlueprint(id=sensor.camera.instance_segmentation,tags=[sensor, camera, instance_segmentation]), ActorBlueprint(id=walker.pedestrian.0001,tags=[walker, pedestrian, 0001]), ActorBlueprint(id=walker.pedestrian.0002,tags=[0002, walker, pedestrian]), ActorBlueprint(id=walker.pedestrian.0003,tags=[walker, 0003, pedestrian]), ActorBlueprint(id=static.prop.atm,tags=[static, prop, atm]), ActorBlueprint(id=walker.pedestrian.0004,tags=[walker, pedestrian, 0004]), ActorBlueprint(id=walker.pedestrian.0005,tags=[walker, pedestrian, 0005]), ActorBlueprint(id=walker.pedestrian.0006,tags=[walker, pedestrian, 0006]), ActorBlueprint(id=static.prop.garbage05,tags=[garbage05, static, prop]), ActorBlueprint(id=walker.pedestrian.0008,tags=[walker, pedestrian, 0008]), ActorBlueprint(id=static.prop.garbage04,tags=[static, garbage04, prop]), ActorBlueprint(id=walker.pedestrian.0009,tags=[walker, pedestrian, 0009]), ActorBlueprint(id=walker.pedestrian.0011,tags=[0011, walker, pedestrian]), ActorBlueprint(id=walker.pedestrian.0012,tags=[walker, pedestrian, 0012]), ActorBlueprint(id=walker.pedestrian.0014,tags=[walker, pedestrian, 0014]), ActorBlueprint(id=walker.pedestrian.0015,tags=[walker, pedestrian, 0015]), ActorBlueprint(id=walker.pedestrian.0016,tags=[walker, pedestrian, 0016]), ActorBlueprint(id=walker.pedestrian.0017,tags=[walker, pedestrian, 0017]), ActorBlueprint(id=walker.pedestrian.0018,tags=[walker, 0018, pedestrian]), ActorBlueprint(id=walker.pedestrian.0019,tags=[0019, walker, pedestrian]), ActorBlueprint(id=static.prop.plasticbag,tags=[plasticbag, static, prop]), ActorBlueprint(id=static.prop.busstop,tags=[static, prop, busstop]), ActorBlueprint(id=walker.pedestrian.0020,tags=[0020, walker, pedestrian]), ActorBlueprint(id=walker.pedestrian.0022,tags=[walker, pedestrian, 0022]), ActorBlueprint(id=static.prop.clothcontainer,tags=[static, prop, clothcontainer]), ActorBlueprint(id=walker.pedestrian.0023,tags=[walker, pedestrian, 0023]), ActorBlueprint(id=walker.pedestrian.0025,tags=[walker, pedestrian, 0025]), ActorBlueprint(id=static.prop.fountain,tags=[static, prop, fountain]), ActorBlueprint(id=walker.pedestrian.0026,tags=[walker, pedestrian, 0026]), ActorBlueprint(id=walker.pedestrian.0027,tags=[walker, pedestrian, 0027]), ActorBlueprint(id=walker.pedestrian.0028,tags=[0028, walker, pedestrian]), ActorBlueprint(id=static.prop.advertisement,tags=[static, prop, advertisement]), ActorBlueprint(id=walker.pedestrian.0029,tags=[walker, 0029, pedestrian]), ActorBlueprint(id=walker.pedestrian.0030,tags=[walker, pedestrian, 0030]), ActorBlueprint(id=static.prop.slide,tags=[static, prop, slide]), ActorBlueprint(id=walker.pedestrian.0032,tags=[walker, pedestrian, 0032]), ActorBlueprint(id=walker.pedestrian.0033,tags=[walker, pedestrian, 0033]), ActorBlueprint(id=walker.pedestrian.0034,tags=[walker, pedestrian, 0034]), ActorBlueprint(id=walker.pedestrian.0035,tags=[walker, pedestrian, 0035]), ActorBlueprint(id=static.prop.colacan,tags=[static, prop, colacan]), ActorBlueprint(id=walker.pedestrian.0036,tags=[walker, 0036, pedestrian]), ActorBlueprint(id=static.prop.trashcan04,tags=[static, prop, trashcan04]), ActorBlueprint(id=static.prop.plastictable,tags=[static, prop, plastictable]), ActorBlueprint(id=walker.pedestrian.0039,tags=[walker, pedestrian, 0039]), ActorBlueprint(id=static.prop.mailbox,tags=[mailbox, static, prop]), ActorBlueprint(id=walker.pedestrian.0040,tags=[walker, pedestrian, 0040]), ActorBlueprint(id=walker.pedestrian.0041,tags=[walker, pedestrian, 0041]), ActorBlueprint(id=walker.pedestrian.0042,tags=[walker, pedestrian, 0042]), ActorBlueprint(id=walker.pedestrian.0043,tags=[walker, pedestrian, 0043]), ActorBlueprint(id=static.prop.swingcouch,tags=[static, prop, swingcouch]), ActorBlueprint(id=walker.pedestrian.0044,tags=[walker, pedestrian, 0044]), ActorBlueprint(id=walker.pedestrian.0045,tags=[walker, pedestrian, 0045]), ActorBlueprint(id=walker.pedestrian.0047,tags=[walker, 0047, pedestrian]), ActorBlueprint(id=walker.pedestrian.0048,tags=[walker, pedestrian, 0048]), ActorBlueprint(id=walker.pedestrian.0049,tags=[walker, pedestrian, 0049]), ActorBlueprint(id=walker.pedestrian.0050,tags=[walker, pedestrian, 0050]), ActorBlueprint(id=static.prop.streetbarrier,tags=[static, prop, streetbarrier]), ActorBlueprint(id=walker.pedestrian.0051,tags=[walker, pedestrian, 0051]), ActorBlueprint(id=static.prop.barbeque,tags=[static, barbeque, prop]), ActorBlueprint(id=static.prop.plantpot07,tags=[static, plantpot07, prop]), ActorBlueprint(id=static.prop.bench01,tags=[static, prop, bench01]), ActorBlueprint(id=static.prop.plantpot05,tags=[static, prop, plantpot05]), ActorBlueprint(id=static.prop.bench03,tags=[static, bench03, prop]), ActorBlueprint(id=static.prop.bin,tags=[static, prop, bin]), ActorBlueprint(id=static.prop.garbage03,tags=[static, prop, garbage03]), ActorBlueprint(id=static.prop.box01,tags=[static, prop, box01]), ActorBlueprint(id=static.prop.box02,tags=[static, prop, box02]), ActorBlueprint(id=static.prop.garbage01,tags=[static, prop, garbage01]), ActorBlueprint(id=static.prop.box03,tags=[static, prop, box03]), ActorBlueprint(id=static.prop.table,tags=[static, prop, table]), ActorBlueprint(id=static.prop.briefcase,tags=[briefcase, static, prop]), ActorBlueprint(id=static.prop.brokentile01,tags=[static, prop, brokentile01]), ActorBlueprint(id=static.prop.brokentile02,tags=[static, prop, brokentile02]), ActorBlueprint(id=static.prop.trafficcone02,tags=[static, prop, trafficcone02]), ActorBlueprint(id=static.prop.brokentile03,tags=[static, prop, brokentile03]), ActorBlueprint(id=static.prop.brokentile04,tags=[static, brokentile04, prop]), ActorBlueprint(id=static.prop.vendingmachine,tags=[vendingmachine, static, prop]), ActorBlueprint(id=static.prop.chainbarrier,tags=[static, prop, chainbarrier]), ActorBlueprint(id=static.prop.chainbarrierend,tags=[static, prop, chainbarrierend]), ActorBlueprint(id=static.prop.shoppingbag,tags=[static, prop, shoppingbag]), ActorBlueprint(id=static.prop.clothesline,tags=[static, prop, clothesline]), ActorBlueprint(id=static.prop.constructioncone,tags=[static, prop, constructioncone]), ActorBlueprint(id=static.prop.container,tags=[static, container, prop]), ActorBlueprint(id=static.prop.creasedbox03,tags=[static, prop, creasedbox03]), ActorBlueprint(id=static.prop.dirtdebris01,tags=[static, prop, dirtdebris01]), ActorBlueprint(id=static.prop.dirtdebris03,tags=[static, prop, dirtdebris03]), ActorBlueprint(id=static.prop.garbage02,tags=[static, prop, garbage02]), ActorBlueprint(id=static.prop.plasticchair,tags=[static, prop, plasticchair]), ActorBlueprint(id=static.prop.garbage06,tags=[static, prop, garbage06]), ActorBlueprint(id=static.prop.calibrator,tags=[static, prop, calibrator]), ActorBlueprint(id=static.prop.gardenlamp,tags=[static, prop, gardenlamp]), ActorBlueprint(id=static.prop.gnome,tags=[static, prop, gnome]), ActorBlueprint(id=static.prop.guitarcase,tags=[guitarcase, static, prop]), ActorBlueprint(id=static.prop.maptable,tags=[maptable, static, prop]), ActorBlueprint(id=static.prop.mobile,tags=[static, prop, mobile]), ActorBlueprint(id=static.prop.plantpot08,tags=[static, prop, plantpot08]), ActorBlueprint(id=static.prop.motorhelmet,tags=[static, prop, motorhelmet]), ActorBlueprint(id=static.prop.plantpot01,tags=[static, prop, plantpot01]), ActorBlueprint(id=static.prop.plantpot03,tags=[static, prop, plantpot03]), ActorBlueprint(id=static.prop.purse,tags=[static, purse, prop]), ActorBlueprint(id=static.prop.shoppingcart,tags=[static, prop, shoppingcart]), ActorBlueprint(id=static.prop.shoppingtrolley,tags=[static, prop, shoppingtrolley]), ActorBlueprint(id=static.prop.streetsign01,tags=[static, streetsign01, prop]), ActorBlueprint(id=static.prop.haybalelb,tags=[static, prop, haybalelb]), ActorBlueprint(id=static.prop.streetsign04,tags=[static, prop, streetsign04]), ActorBlueprint(id=static.prop.streetfountain,tags=[static, prop, streetfountain]), ActorBlueprint(id=static.prop.swing,tags=[static, prop, swing]), ActorBlueprint(id=static.prop.trafficcone01,tags=[static, prop, trafficcone01]), ActorBlueprint(id=static.prop.trafficwarning,tags=[static, prop, trafficwarning]), ActorBlueprint(id=static.prop.trampoline,tags=[static, prop, trampoline]), ActorBlueprint(id=static.prop.trashbag,tags=[static, prop, trashbag]), ActorBlueprint(id=static.prop.trashcan01,tags=[static, prop, trashcan01]), ActorBlueprint(id=static.prop.trashcan02,tags=[static, prop, trashcan02]), ActorBlueprint(id=static.prop.travelcase,tags=[static, prop, travelcase]), ActorBlueprint(id=static.prop.wateringcan,tags=[static, prop, wateringcan]), ActorBlueprint(id=static.prop.foodcart,tags=[foodcart, static, prop]), ActorBlueprint(id=static.prop.haybale,tags=[haybale, static, prop]), ActorBlueprint(id=static.prop.busstoplb,tags=[static, prop, busstoplb]), ActorBlueprint(id=static.prop.mesh,tags=[static, prop, mesh]), ActorBlueprint(id=static.prop.warningaccident,tags=[static, prop, warningaccident]), ActorBlueprint(id=static.trigger.friction,tags=[friction, trigger, static]), ActorBlueprint(id=controller.ai.walker,tags=[controller, walker, ai])]\n"
     ]
    }
   ],
   "source": [
    "vehicle_all = world.get_blueprint_library()\n",
    "print(vehicle_all)"
   ]
  },
  {
   "cell_type": "code",
   "execution_count": null,
   "id": "cd133cf7",
   "metadata": {},
   "outputs": [],
   "source": []
  }
 ],
 "metadata": {
  "kernelspec": {
   "display_name": "carlaenvpy310",
   "language": "python",
   "name": "carlaenvpy310"
  },
  "language_info": {
   "codemirror_mode": {
    "name": "ipython",
    "version": 3
   },
   "file_extension": ".py",
   "mimetype": "text/x-python",
   "name": "python",
   "nbconvert_exporter": "python",
   "pygments_lexer": "ipython3",
   "version": "3.10.13"
  }
 },
 "nbformat": 4,
 "nbformat_minor": 5
}
