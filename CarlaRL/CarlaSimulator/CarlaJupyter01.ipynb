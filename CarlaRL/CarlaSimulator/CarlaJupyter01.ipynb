{
 "cells": [
  {
   "cell_type": "code",
   "execution_count": 1,
   "id": "3697b83b",
   "metadata": {},
   "outputs": [
    {
     "name": "stdout",
     "output_type": "stream",
     "text": [
      "c:\\Users\\14404\\anaconda3\\envs\\tf\\lib\\site-packages\\carla\\__init__.py\n"
     ]
    }
   ],
   "source": [
    "import carla\n",
    "print(carla.__file__)\n",
    "import random\n"
   ]
  },
  {
   "cell_type": "code",
   "execution_count": 2,
   "id": "014e01b1",
   "metadata": {},
   "outputs": [],
   "source": [
    "client = carla.Client('localhost', 2000)\n",
    "\n",
    "world = client.get_world()\n",
    "spawn_points = world.get_map().get_spawn_points()\n",
    "\n",
    "vehicle_bp = world.get_blueprint_library().filter('*firetruck*')\n",
    "start_point = spawn_points[0]\n",
    "vehicle = world.try_spawn_actor(vehicle_bp[0], start_point)"
   ]
  },
  {
   "cell_type": "code",
   "execution_count": 3,
   "id": "6ed5f257",
   "metadata": {},
   "outputs": [
    {
     "name": "stdout",
     "output_type": "stream",
     "text": [
      "Transform(Location(x=-64.644844, y=24.471951, z=-0.001328), Rotation(pitch=-0.000061, yaw=0.159196, roll=0.000726))\n"
     ]
    }
   ],
   "source": [
    "# get the car's position on the map \n",
    "vehicle_pos = vehicle.get_transform()\n",
    "print(vehicle_pos)"
   ]
  },
  {
   "cell_type": "code",
   "execution_count": 4,
   "id": "bb43629f",
   "metadata": {},
   "outputs": [
    {
     "name": "stdout",
     "output_type": "stream",
     "text": [
      "Transform(Location(x=-64.644844, y=24.471010, z=0.600000), Rotation(pitch=0.000000, yaw=0.159198, roll=0.000000))\n"
     ]
    }
   ],
   "source": [
    "# initial spawn point is the same - just 0.6m higher off the ground\n",
    "print(start_point)"
   ]
  },
  {
   "cell_type": "code",
   "execution_count": 5,
   "id": "e0699ec9",
   "metadata": {},
   "outputs": [],
   "source": [
    "# send vehicle off\n",
    "vehicle.set_autopilot(True)\n"
   ]
  },
  {
   "cell_type": "code",
   "execution_count": 8,
   "id": "50e7b1ac",
   "metadata": {},
   "outputs": [
    {
     "name": "stdout",
     "output_type": "stream",
     "text": [
      "Transform(Location(x=-45.315430, y=-7.598374, z=-0.003463), Rotation(pitch=0.000266, yaw=-90.582146, roll=-0.020111))\n"
     ]
    }
   ],
   "source": [
    "# get actual position from the car moving\n",
    "vehicle_pos = vehicle.get_transform()\n",
    "print(vehicle_pos)\n"
   ]
  },
  {
   "cell_type": "code",
   "execution_count": 9,
   "id": "f7d3e94a",
   "metadata": {},
   "outputs": [],
   "source": [
    "# now look at the map\n",
    "town_map = world.get_map()\n"
   ]
  },
  {
   "cell_type": "code",
   "execution_count": 10,
   "id": "7df11671",
   "metadata": {},
   "outputs": [
    {
     "data": {
      "text/plain": [
       "carla.libcarla.Map"
      ]
     },
     "execution_count": 10,
     "metadata": {},
     "output_type": "execute_result"
    }
   ],
   "source": [
    "type(town_map)\n"
   ]
  },
  {
   "cell_type": "code",
   "execution_count": 11,
   "id": "d348dba4",
   "metadata": {},
   "outputs": [
    {
     "name": "stdout",
     "output_type": "stream",
     "text": [
      "Map(name=Carla/Maps/Town10HD_Opt)\n"
     ]
    }
   ],
   "source": [
    "print(town_map)\n"
   ]
  },
  {
   "cell_type": "code",
   "execution_count": 12,
   "id": "5272d948",
   "metadata": {},
   "outputs": [],
   "source": [
    "roads = town_map.get_topology()\n"
   ]
  },
  {
   "cell_type": "code",
   "execution_count": 13,
   "id": "4c44963b",
   "metadata": {},
   "outputs": [
    {
     "name": "stdout",
     "output_type": "stream",
     "text": [
      "[(<carla.libcarla.Waypoint object at 0x0000025760B322D0>, <carla.libcarla.Waypoint object at 0x0000025760B32340>), (<carla.libcarla.Waypoint object at 0x0000025760B323B0>, <carla.libcarla.Waypoint object at 0x0000025760B32420>), (<carla.libcarla.Waypoint object at 0x0000025760B32490>, <carla.libcarla.Waypoint object at 0x0000025760B32500>), (<carla.libcarla.Waypoint object at 0x0000025760B32570>, <carla.libcarla.Waypoint object at 0x0000025760B325E0>), (<carla.libcarla.Waypoint object at 0x0000025760B32650>, <carla.libcarla.Waypoint object at 0x0000025760B326C0>), (<carla.libcarla.Waypoint object at 0x0000025760B32730>, <carla.libcarla.Waypoint object at 0x0000025760B327A0>), (<carla.libcarla.Waypoint object at 0x0000025760B32810>, <carla.libcarla.Waypoint object at 0x0000025760B32880>), (<carla.libcarla.Waypoint object at 0x0000025760B328F0>, <carla.libcarla.Waypoint object at 0x0000025760B32960>), (<carla.libcarla.Waypoint object at 0x0000025760B329D0>, <carla.libcarla.Waypoint object at 0x0000025760B32A40>), (<carla.libcarla.Waypoint object at 0x0000025760B32AB0>, <carla.libcarla.Waypoint object at 0x0000025760B32B20>), (<carla.libcarla.Waypoint object at 0x0000025760B32B90>, <carla.libcarla.Waypoint object at 0x0000025760B32C00>), (<carla.libcarla.Waypoint object at 0x0000025760B32C70>, <carla.libcarla.Waypoint object at 0x0000025760B32CE0>), (<carla.libcarla.Waypoint object at 0x0000025760B32D50>, <carla.libcarla.Waypoint object at 0x0000025760B32DC0>), (<carla.libcarla.Waypoint object at 0x0000025760B32E30>, <carla.libcarla.Waypoint object at 0x0000025760B32EA0>), (<carla.libcarla.Waypoint object at 0x0000025760B32F10>, <carla.libcarla.Waypoint object at 0x0000025760B32F80>), (<carla.libcarla.Waypoint object at 0x0000025760B32FF0>, <carla.libcarla.Waypoint object at 0x0000025760B33060>), (<carla.libcarla.Waypoint object at 0x0000025760B330D0>, <carla.libcarla.Waypoint object at 0x0000025760B33140>), (<carla.libcarla.Waypoint object at 0x0000025760B331B0>, <carla.libcarla.Waypoint object at 0x0000025760B33220>), (<carla.libcarla.Waypoint object at 0x0000025760B33290>, <carla.libcarla.Waypoint object at 0x0000025760B33300>), (<carla.libcarla.Waypoint object at 0x0000025760B33370>, <carla.libcarla.Waypoint object at 0x0000025760B333E0>), (<carla.libcarla.Waypoint object at 0x0000025760B33450>, <carla.libcarla.Waypoint object at 0x0000025760B334C0>), (<carla.libcarla.Waypoint object at 0x0000025760B33530>, <carla.libcarla.Waypoint object at 0x0000025760B335A0>), (<carla.libcarla.Waypoint object at 0x0000025760B33610>, <carla.libcarla.Waypoint object at 0x0000025760B33680>), (<carla.libcarla.Waypoint object at 0x0000025760B336F0>, <carla.libcarla.Waypoint object at 0x0000025760B33760>), (<carla.libcarla.Waypoint object at 0x0000025760B337D0>, <carla.libcarla.Waypoint object at 0x0000025760B33840>), (<carla.libcarla.Waypoint object at 0x0000025760B338B0>, <carla.libcarla.Waypoint object at 0x0000025760B33920>), (<carla.libcarla.Waypoint object at 0x0000025760B33990>, <carla.libcarla.Waypoint object at 0x0000025760B33A00>), (<carla.libcarla.Waypoint object at 0x0000025760B33A70>, <carla.libcarla.Waypoint object at 0x0000025760B33AE0>), (<carla.libcarla.Waypoint object at 0x0000025760B33B50>, <carla.libcarla.Waypoint object at 0x0000025760B33BC0>), (<carla.libcarla.Waypoint object at 0x0000025760B33C30>, <carla.libcarla.Waypoint object at 0x0000025760B33CA0>), (<carla.libcarla.Waypoint object at 0x0000025760B33D10>, <carla.libcarla.Waypoint object at 0x0000025760B33D80>), (<carla.libcarla.Waypoint object at 0x0000025760B33DF0>, <carla.libcarla.Waypoint object at 0x0000025760B33E60>), (<carla.libcarla.Waypoint object at 0x0000025760B33ED0>, <carla.libcarla.Waypoint object at 0x0000025760B33F40>), (<carla.libcarla.Waypoint object at 0x0000025760BB8040>, <carla.libcarla.Waypoint object at 0x0000025760BB80B0>), (<carla.libcarla.Waypoint object at 0x0000025760BB8120>, <carla.libcarla.Waypoint object at 0x0000025760BB8190>), (<carla.libcarla.Waypoint object at 0x0000025760BB8200>, <carla.libcarla.Waypoint object at 0x0000025760BB8270>), (<carla.libcarla.Waypoint object at 0x0000025760BB82E0>, <carla.libcarla.Waypoint object at 0x0000025760BB8350>), (<carla.libcarla.Waypoint object at 0x0000025760BB83C0>, <carla.libcarla.Waypoint object at 0x0000025760BB8430>), (<carla.libcarla.Waypoint object at 0x0000025760BB84A0>, <carla.libcarla.Waypoint object at 0x0000025760BB8510>), (<carla.libcarla.Waypoint object at 0x0000025760BB8580>, <carla.libcarla.Waypoint object at 0x0000025760BB85F0>), (<carla.libcarla.Waypoint object at 0x0000025760BB8660>, <carla.libcarla.Waypoint object at 0x0000025760BB86D0>), (<carla.libcarla.Waypoint object at 0x0000025760BB8740>, <carla.libcarla.Waypoint object at 0x0000025760BB87B0>), (<carla.libcarla.Waypoint object at 0x0000025760BB8820>, <carla.libcarla.Waypoint object at 0x0000025760BB8890>), (<carla.libcarla.Waypoint object at 0x0000025760BB8900>, <carla.libcarla.Waypoint object at 0x0000025760BB8970>), (<carla.libcarla.Waypoint object at 0x0000025760BB89E0>, <carla.libcarla.Waypoint object at 0x0000025760BB8A50>), (<carla.libcarla.Waypoint object at 0x0000025760BB8AC0>, <carla.libcarla.Waypoint object at 0x0000025760BB8B30>), (<carla.libcarla.Waypoint object at 0x0000025760BB8BA0>, <carla.libcarla.Waypoint object at 0x0000025760BB8C10>), (<carla.libcarla.Waypoint object at 0x0000025760BB8C80>, <carla.libcarla.Waypoint object at 0x0000025760BB8CF0>), (<carla.libcarla.Waypoint object at 0x0000025760BB8D60>, <carla.libcarla.Waypoint object at 0x0000025760BB8DD0>), (<carla.libcarla.Waypoint object at 0x0000025760BB8E40>, <carla.libcarla.Waypoint object at 0x0000025760BB8EB0>), (<carla.libcarla.Waypoint object at 0x0000025760BB8F20>, <carla.libcarla.Waypoint object at 0x0000025760BB8F90>), (<carla.libcarla.Waypoint object at 0x0000025760BB9000>, <carla.libcarla.Waypoint object at 0x0000025760BB9070>), (<carla.libcarla.Waypoint object at 0x0000025760BB90E0>, <carla.libcarla.Waypoint object at 0x0000025760BB9150>), (<carla.libcarla.Waypoint object at 0x0000025760BB91C0>, <carla.libcarla.Waypoint object at 0x0000025760BB9230>), (<carla.libcarla.Waypoint object at 0x0000025760BB92A0>, <carla.libcarla.Waypoint object at 0x0000025760BB9310>), (<carla.libcarla.Waypoint object at 0x0000025760BB9380>, <carla.libcarla.Waypoint object at 0x0000025760BB93F0>), (<carla.libcarla.Waypoint object at 0x0000025760BB9460>, <carla.libcarla.Waypoint object at 0x0000025760BB94D0>), (<carla.libcarla.Waypoint object at 0x0000025760BB9540>, <carla.libcarla.Waypoint object at 0x0000025760BB95B0>), (<carla.libcarla.Waypoint object at 0x0000025760BB9620>, <carla.libcarla.Waypoint object at 0x0000025760BB9690>), (<carla.libcarla.Waypoint object at 0x0000025760BB9700>, <carla.libcarla.Waypoint object at 0x0000025760BB9770>), (<carla.libcarla.Waypoint object at 0x0000025760BB97E0>, <carla.libcarla.Waypoint object at 0x0000025760BB9850>), (<carla.libcarla.Waypoint object at 0x0000025760BB98C0>, <carla.libcarla.Waypoint object at 0x0000025760BB9930>), (<carla.libcarla.Waypoint object at 0x0000025760BB99A0>, <carla.libcarla.Waypoint object at 0x0000025760BB9A10>), (<carla.libcarla.Waypoint object at 0x0000025760BB9A80>, <carla.libcarla.Waypoint object at 0x0000025760BB9AF0>), (<carla.libcarla.Waypoint object at 0x0000025760BB9B60>, <carla.libcarla.Waypoint object at 0x0000025760BB9BD0>), (<carla.libcarla.Waypoint object at 0x0000025760BB9C40>, <carla.libcarla.Waypoint object at 0x0000025760BB9CB0>), (<carla.libcarla.Waypoint object at 0x0000025760BB9D20>, <carla.libcarla.Waypoint object at 0x0000025760BB9D90>), (<carla.libcarla.Waypoint object at 0x0000025760BB9E00>, <carla.libcarla.Waypoint object at 0x0000025760BB9E70>), (<carla.libcarla.Waypoint object at 0x0000025760BB9EE0>, <carla.libcarla.Waypoint object at 0x0000025760BB9F50>), (<carla.libcarla.Waypoint object at 0x0000025760BB9FC0>, <carla.libcarla.Waypoint object at 0x0000025760BBA030>), (<carla.libcarla.Waypoint object at 0x0000025760BBA0A0>, <carla.libcarla.Waypoint object at 0x0000025760BBA110>), (<carla.libcarla.Waypoint object at 0x0000025760BBA180>, <carla.libcarla.Waypoint object at 0x0000025760BBA1F0>), (<carla.libcarla.Waypoint object at 0x0000025760BBA260>, <carla.libcarla.Waypoint object at 0x0000025760BBA2D0>), (<carla.libcarla.Waypoint object at 0x0000025760BBA340>, <carla.libcarla.Waypoint object at 0x0000025760BBA3B0>), (<carla.libcarla.Waypoint object at 0x0000025760BBA420>, <carla.libcarla.Waypoint object at 0x0000025760BBA490>), (<carla.libcarla.Waypoint object at 0x0000025760BBA500>, <carla.libcarla.Waypoint object at 0x0000025760BBA570>), (<carla.libcarla.Waypoint object at 0x0000025760BBA5E0>, <carla.libcarla.Waypoint object at 0x0000025760BBA650>), (<carla.libcarla.Waypoint object at 0x0000025760BBA6C0>, <carla.libcarla.Waypoint object at 0x0000025760BBA730>), (<carla.libcarla.Waypoint object at 0x0000025760BBA7A0>, <carla.libcarla.Waypoint object at 0x0000025760BBA810>), (<carla.libcarla.Waypoint object at 0x0000025760BBA880>, <carla.libcarla.Waypoint object at 0x0000025760BBA8F0>), (<carla.libcarla.Waypoint object at 0x0000025760BBA960>, <carla.libcarla.Waypoint object at 0x0000025760BBA9D0>), (<carla.libcarla.Waypoint object at 0x0000025760BBAA40>, <carla.libcarla.Waypoint object at 0x0000025760BBAAB0>), (<carla.libcarla.Waypoint object at 0x0000025760BBAB20>, <carla.libcarla.Waypoint object at 0x0000025760BBAB90>), (<carla.libcarla.Waypoint object at 0x0000025760BBAC00>, <carla.libcarla.Waypoint object at 0x0000025760BBAC70>), (<carla.libcarla.Waypoint object at 0x0000025760BBACE0>, <carla.libcarla.Waypoint object at 0x0000025760BBAD50>), (<carla.libcarla.Waypoint object at 0x0000025760BBADC0>, <carla.libcarla.Waypoint object at 0x0000025760BBAE30>), (<carla.libcarla.Waypoint object at 0x0000025760BBAEA0>, <carla.libcarla.Waypoint object at 0x0000025760BBAF10>), (<carla.libcarla.Waypoint object at 0x0000025760BBAF80>, <carla.libcarla.Waypoint object at 0x0000025760BBAFF0>), (<carla.libcarla.Waypoint object at 0x0000025760BBB060>, <carla.libcarla.Waypoint object at 0x0000025760BBB0D0>), (<carla.libcarla.Waypoint object at 0x0000025760BBB140>, <carla.libcarla.Waypoint object at 0x0000025760BBB1B0>), (<carla.libcarla.Waypoint object at 0x0000025760BBB220>, <carla.libcarla.Waypoint object at 0x0000025760BBB290>), (<carla.libcarla.Waypoint object at 0x0000025760BBB300>, <carla.libcarla.Waypoint object at 0x0000025760BBB370>), (<carla.libcarla.Waypoint object at 0x0000025760BBB3E0>, <carla.libcarla.Waypoint object at 0x0000025760BBB450>), (<carla.libcarla.Waypoint object at 0x0000025760BBB4C0>, <carla.libcarla.Waypoint object at 0x0000025760BBB530>), (<carla.libcarla.Waypoint object at 0x0000025760BBB5A0>, <carla.libcarla.Waypoint object at 0x0000025760BBB610>), (<carla.libcarla.Waypoint object at 0x0000025760BBB680>, <carla.libcarla.Waypoint object at 0x0000025760BBB6F0>), (<carla.libcarla.Waypoint object at 0x0000025760BBB760>, <carla.libcarla.Waypoint object at 0x0000025760BBB7D0>), (<carla.libcarla.Waypoint object at 0x0000025760BBB840>, <carla.libcarla.Waypoint object at 0x0000025760BBB8B0>), (<carla.libcarla.Waypoint object at 0x0000025760BBB920>, <carla.libcarla.Waypoint object at 0x0000025760BBB990>), (<carla.libcarla.Waypoint object at 0x0000025760BBBA00>, <carla.libcarla.Waypoint object at 0x0000025760BBBA70>), (<carla.libcarla.Waypoint object at 0x0000025760BBBAE0>, <carla.libcarla.Waypoint object at 0x0000025760BBBB50>), (<carla.libcarla.Waypoint object at 0x0000025760BBBBC0>, <carla.libcarla.Waypoint object at 0x0000025760BBBC30>), (<carla.libcarla.Waypoint object at 0x0000025760BBBCA0>, <carla.libcarla.Waypoint object at 0x0000025760BBBD10>), (<carla.libcarla.Waypoint object at 0x0000025760BBBD80>, <carla.libcarla.Waypoint object at 0x0000025760BBBDF0>), (<carla.libcarla.Waypoint object at 0x0000025760BBBE60>, <carla.libcarla.Waypoint object at 0x0000025760BBBED0>), (<carla.libcarla.Waypoint object at 0x0000025760BBBF40>, <carla.libcarla.Waypoint object at 0x0000025760BBC040>), (<carla.libcarla.Waypoint object at 0x0000025760BBC0B0>, <carla.libcarla.Waypoint object at 0x0000025760BBC120>), (<carla.libcarla.Waypoint object at 0x0000025760BBC190>, <carla.libcarla.Waypoint object at 0x0000025760BBC200>), (<carla.libcarla.Waypoint object at 0x0000025760BBC270>, <carla.libcarla.Waypoint object at 0x0000025760BBC2E0>), (<carla.libcarla.Waypoint object at 0x0000025760BBC350>, <carla.libcarla.Waypoint object at 0x0000025760BBC3C0>), (<carla.libcarla.Waypoint object at 0x0000025760BBC430>, <carla.libcarla.Waypoint object at 0x0000025760BBC4A0>), (<carla.libcarla.Waypoint object at 0x0000025760BBC510>, <carla.libcarla.Waypoint object at 0x0000025760BBC580>), (<carla.libcarla.Waypoint object at 0x0000025760BBC5F0>, <carla.libcarla.Waypoint object at 0x0000025760BBC660>), (<carla.libcarla.Waypoint object at 0x0000025760BBC6D0>, <carla.libcarla.Waypoint object at 0x0000025760BBC740>), (<carla.libcarla.Waypoint object at 0x0000025760BBC7B0>, <carla.libcarla.Waypoint object at 0x0000025760BBC820>), (<carla.libcarla.Waypoint object at 0x0000025760BBC890>, <carla.libcarla.Waypoint object at 0x0000025760BBC900>), (<carla.libcarla.Waypoint object at 0x0000025760BBC970>, <carla.libcarla.Waypoint object at 0x0000025760BBC9E0>), (<carla.libcarla.Waypoint object at 0x0000025760BBCA50>, <carla.libcarla.Waypoint object at 0x0000025760BBCAC0>), (<carla.libcarla.Waypoint object at 0x0000025760BBCB30>, <carla.libcarla.Waypoint object at 0x0000025760BBCBA0>), (<carla.libcarla.Waypoint object at 0x0000025760BBCC10>, <carla.libcarla.Waypoint object at 0x0000025760BBCC80>), (<carla.libcarla.Waypoint object at 0x0000025760BBCCF0>, <carla.libcarla.Waypoint object at 0x0000025760BBCD60>), (<carla.libcarla.Waypoint object at 0x0000025760BBCDD0>, <carla.libcarla.Waypoint object at 0x0000025760BBCE40>), (<carla.libcarla.Waypoint object at 0x0000025760BBCEB0>, <carla.libcarla.Waypoint object at 0x0000025760BBCF20>), (<carla.libcarla.Waypoint object at 0x0000025760BBCF90>, <carla.libcarla.Waypoint object at 0x0000025760BBD000>), (<carla.libcarla.Waypoint object at 0x0000025760BBD070>, <carla.libcarla.Waypoint object at 0x0000025760BBD0E0>), (<carla.libcarla.Waypoint object at 0x0000025760BBD150>, <carla.libcarla.Waypoint object at 0x0000025760BBD1C0>), (<carla.libcarla.Waypoint object at 0x0000025760BBD230>, <carla.libcarla.Waypoint object at 0x0000025760BBD2A0>), (<carla.libcarla.Waypoint object at 0x0000025760BBD310>, <carla.libcarla.Waypoint object at 0x0000025760BBD380>), (<carla.libcarla.Waypoint object at 0x0000025760BBD3F0>, <carla.libcarla.Waypoint object at 0x0000025760BBD460>), (<carla.libcarla.Waypoint object at 0x0000025760BBD4D0>, <carla.libcarla.Waypoint object at 0x0000025760BBD540>), (<carla.libcarla.Waypoint object at 0x0000025760BBD5B0>, <carla.libcarla.Waypoint object at 0x0000025760BBD620>), (<carla.libcarla.Waypoint object at 0x0000025760BBD690>, <carla.libcarla.Waypoint object at 0x0000025760BBD700>), (<carla.libcarla.Waypoint object at 0x0000025760BBD770>, <carla.libcarla.Waypoint object at 0x0000025760BBD7E0>), (<carla.libcarla.Waypoint object at 0x0000025760BBD850>, <carla.libcarla.Waypoint object at 0x0000025760BBD8C0>), (<carla.libcarla.Waypoint object at 0x0000025760BBD930>, <carla.libcarla.Waypoint object at 0x0000025760BBD9A0>), (<carla.libcarla.Waypoint object at 0x0000025760BBDA10>, <carla.libcarla.Waypoint object at 0x0000025760BBDA80>), (<carla.libcarla.Waypoint object at 0x0000025760BBDAF0>, <carla.libcarla.Waypoint object at 0x0000025760BBDB60>), (<carla.libcarla.Waypoint object at 0x0000025760BBDBD0>, <carla.libcarla.Waypoint object at 0x0000025760BBDC40>), (<carla.libcarla.Waypoint object at 0x0000025760BBDCB0>, <carla.libcarla.Waypoint object at 0x0000025760BBDD20>), (<carla.libcarla.Waypoint object at 0x0000025760BBDD90>, <carla.libcarla.Waypoint object at 0x0000025760BBDE00>), (<carla.libcarla.Waypoint object at 0x0000025760BBDE70>, <carla.libcarla.Waypoint object at 0x0000025760BBDEE0>), (<carla.libcarla.Waypoint object at 0x0000025760BBDF50>, <carla.libcarla.Waypoint object at 0x0000025760BBDFC0>), (<carla.libcarla.Waypoint object at 0x0000025760BBE030>, <carla.libcarla.Waypoint object at 0x0000025760BBE0A0>), (<carla.libcarla.Waypoint object at 0x0000025760BBE110>, <carla.libcarla.Waypoint object at 0x0000025760BBE180>), (<carla.libcarla.Waypoint object at 0x0000025760BBE1F0>, <carla.libcarla.Waypoint object at 0x0000025760BBE260>), (<carla.libcarla.Waypoint object at 0x0000025760BBE2D0>, <carla.libcarla.Waypoint object at 0x0000025760BBE340>), (<carla.libcarla.Waypoint object at 0x0000025760BBE3B0>, <carla.libcarla.Waypoint object at 0x0000025760BBE420>), (<carla.libcarla.Waypoint object at 0x0000025760BBE490>, <carla.libcarla.Waypoint object at 0x0000025760BBE500>), (<carla.libcarla.Waypoint object at 0x0000025760BBE570>, <carla.libcarla.Waypoint object at 0x0000025760BBE5E0>), (<carla.libcarla.Waypoint object at 0x0000025760BBE650>, <carla.libcarla.Waypoint object at 0x0000025760BBE6C0>), (<carla.libcarla.Waypoint object at 0x0000025760BBE730>, <carla.libcarla.Waypoint object at 0x0000025760BBE7A0>), (<carla.libcarla.Waypoint object at 0x0000025760BBE810>, <carla.libcarla.Waypoint object at 0x0000025760BBE880>), (<carla.libcarla.Waypoint object at 0x0000025760BBE8F0>, <carla.libcarla.Waypoint object at 0x0000025760BBE960>), (<carla.libcarla.Waypoint object at 0x0000025760BBE9D0>, <carla.libcarla.Waypoint object at 0x0000025760BBEA40>), (<carla.libcarla.Waypoint object at 0x0000025760BBEAB0>, <carla.libcarla.Waypoint object at 0x0000025760BBEB20>), (<carla.libcarla.Waypoint object at 0x0000025760BBEB90>, <carla.libcarla.Waypoint object at 0x0000025760BBEC00>), (<carla.libcarla.Waypoint object at 0x0000025760BBEC70>, <carla.libcarla.Waypoint object at 0x0000025760BBECE0>), (<carla.libcarla.Waypoint object at 0x0000025760BBED50>, <carla.libcarla.Waypoint object at 0x0000025760BBEDC0>), (<carla.libcarla.Waypoint object at 0x0000025760BBEE30>, <carla.libcarla.Waypoint object at 0x0000025760BBEEA0>), (<carla.libcarla.Waypoint object at 0x0000025760BBEF10>, <carla.libcarla.Waypoint object at 0x0000025760BBEF80>), (<carla.libcarla.Waypoint object at 0x0000025760BBEFF0>, <carla.libcarla.Waypoint object at 0x0000025760BBF060>), (<carla.libcarla.Waypoint object at 0x0000025760BBF0D0>, <carla.libcarla.Waypoint object at 0x0000025760BBF140>), (<carla.libcarla.Waypoint object at 0x0000025760BBF1B0>, <carla.libcarla.Waypoint object at 0x0000025760BBF220>), (<carla.libcarla.Waypoint object at 0x0000025760BBF290>, <carla.libcarla.Waypoint object at 0x0000025760BBF300>), (<carla.libcarla.Waypoint object at 0x0000025760BBF370>, <carla.libcarla.Waypoint object at 0x0000025760BBF3E0>), (<carla.libcarla.Waypoint object at 0x0000025760BBF450>, <carla.libcarla.Waypoint object at 0x0000025760BBF4C0>), (<carla.libcarla.Waypoint object at 0x0000025760BBF530>, <carla.libcarla.Waypoint object at 0x0000025760BBF5A0>), (<carla.libcarla.Waypoint object at 0x0000025760BBF610>, <carla.libcarla.Waypoint object at 0x0000025760BBF680>), (<carla.libcarla.Waypoint object at 0x0000025760BBF6F0>, <carla.libcarla.Waypoint object at 0x0000025760BBF760>), (<carla.libcarla.Waypoint object at 0x0000025760BBF7D0>, <carla.libcarla.Waypoint object at 0x0000025760BBF840>), (<carla.libcarla.Waypoint object at 0x0000025760BBF8B0>, <carla.libcarla.Waypoint object at 0x0000025760BBF920>), (<carla.libcarla.Waypoint object at 0x0000025760BBF990>, <carla.libcarla.Waypoint object at 0x0000025760BBFA00>), (<carla.libcarla.Waypoint object at 0x0000025760BBFA70>, <carla.libcarla.Waypoint object at 0x0000025760BBFAE0>), (<carla.libcarla.Waypoint object at 0x0000025760BBFB50>, <carla.libcarla.Waypoint object at 0x0000025760BBFBC0>), (<carla.libcarla.Waypoint object at 0x0000025760BBFC30>, <carla.libcarla.Waypoint object at 0x0000025760BBFCA0>), (<carla.libcarla.Waypoint object at 0x0000025760BBFD10>, <carla.libcarla.Waypoint object at 0x0000025760BBFD80>), (<carla.libcarla.Waypoint object at 0x0000025760BBFDF0>, <carla.libcarla.Waypoint object at 0x0000025760BBFE60>), (<carla.libcarla.Waypoint object at 0x0000025760BBFED0>, <carla.libcarla.Waypoint object at 0x0000025760BBFF40>), (<carla.libcarla.Waypoint object at 0x0000025760CD0040>, <carla.libcarla.Waypoint object at 0x0000025760CD00B0>), (<carla.libcarla.Waypoint object at 0x0000025760CD0120>, <carla.libcarla.Waypoint object at 0x0000025760CD0190>), (<carla.libcarla.Waypoint object at 0x0000025760CD0200>, <carla.libcarla.Waypoint object at 0x0000025760CD0270>), (<carla.libcarla.Waypoint object at 0x0000025760CD02E0>, <carla.libcarla.Waypoint object at 0x0000025760CD0350>), (<carla.libcarla.Waypoint object at 0x0000025760CD03C0>, <carla.libcarla.Waypoint object at 0x0000025760CD0430>), (<carla.libcarla.Waypoint object at 0x0000025760CD04A0>, <carla.libcarla.Waypoint object at 0x0000025760CD0510>), (<carla.libcarla.Waypoint object at 0x0000025760CD0580>, <carla.libcarla.Waypoint object at 0x0000025760CD05F0>), (<carla.libcarla.Waypoint object at 0x0000025760CD0660>, <carla.libcarla.Waypoint object at 0x0000025760CD06D0>), (<carla.libcarla.Waypoint object at 0x0000025760CD0740>, <carla.libcarla.Waypoint object at 0x0000025760CD07B0>), (<carla.libcarla.Waypoint object at 0x0000025760CD0820>, <carla.libcarla.Waypoint object at 0x0000025760CD0890>), (<carla.libcarla.Waypoint object at 0x0000025760CD0900>, <carla.libcarla.Waypoint object at 0x0000025760CD0970>), (<carla.libcarla.Waypoint object at 0x0000025760CD09E0>, <carla.libcarla.Waypoint object at 0x0000025760CD0A50>), (<carla.libcarla.Waypoint object at 0x0000025760CD0AC0>, <carla.libcarla.Waypoint object at 0x0000025760CD0B30>), (<carla.libcarla.Waypoint object at 0x0000025760CD0BA0>, <carla.libcarla.Waypoint object at 0x0000025760CD0C10>), (<carla.libcarla.Waypoint object at 0x0000025760CD0C80>, <carla.libcarla.Waypoint object at 0x0000025760CD0CF0>), (<carla.libcarla.Waypoint object at 0x0000025760CD0D60>, <carla.libcarla.Waypoint object at 0x0000025760CD0DD0>), (<carla.libcarla.Waypoint object at 0x0000025760CD0E40>, <carla.libcarla.Waypoint object at 0x0000025760CD0EB0>), (<carla.libcarla.Waypoint object at 0x0000025760CD0F20>, <carla.libcarla.Waypoint object at 0x0000025760CD0F90>), (<carla.libcarla.Waypoint object at 0x0000025760CD1000>, <carla.libcarla.Waypoint object at 0x0000025760CD1070>), (<carla.libcarla.Waypoint object at 0x0000025760CD10E0>, <carla.libcarla.Waypoint object at 0x0000025760CD1150>), (<carla.libcarla.Waypoint object at 0x0000025760CD11C0>, <carla.libcarla.Waypoint object at 0x0000025760CD1230>), (<carla.libcarla.Waypoint object at 0x0000025760CD12A0>, <carla.libcarla.Waypoint object at 0x0000025760CD1310>)]\n"
     ]
    }
   ],
   "source": [
    "print(roads)"
   ]
  },
  {
   "cell_type": "code",
   "execution_count": 14,
   "id": "e8bd2852",
   "metadata": {},
   "outputs": [
    {
     "name": "stdout",
     "output_type": "stream",
     "text": [
      "Waypoint(Transform(Location(x=109.929878, y=-9.334196, z=0.000000), Rotation(pitch=0.000000, yaw=-89.609253, roll=0.000000)))\n"
     ]
    }
   ],
   "source": [
    "#have a look at a waypoint - it is transform wrapped as a waypoint\n",
    "print(roads[0][0])\n"
   ]
  },
  {
   "cell_type": "code",
   "execution_count": 15,
   "id": "ebee4217",
   "metadata": {},
   "outputs": [
    {
     "data": {
      "text/plain": [
       "200"
      ]
     },
     "execution_count": 15,
     "metadata": {},
     "output_type": "execute_result"
    }
   ],
   "source": [
    "len(roads)\n"
   ]
  },
  {
   "cell_type": "code",
   "execution_count": 25,
   "id": "9c227490",
   "metadata": {},
   "outputs": [],
   "source": [
    "# making a route\n",
    "# from one position to another\n",
    "# import some code coming with the sim\n",
    "import sys\n",
    "sys.path.append('C:/Users/14404/CARLA_0.9.15/WindowsNoEditor/PythonAPI/carla')\n",
    "from agents.navigation.global_route_planner import GlobalRoutePlanner\n"
   ]
  },
  {
   "cell_type": "code",
   "execution_count": 26,
   "id": "0a052fa8",
   "metadata": {},
   "outputs": [
    {
     "ename": "",
     "evalue": "",
     "output_type": "error",
     "traceback": [
      "\u001b[1;31mThe Kernel crashed while executing code in the current cell or a previous cell. \n",
      "\u001b[1;31mPlease review the code in the cell(s) to identify a possible cause of the failure. \n",
      "\u001b[1;31mClick <a href='https://aka.ms/vscodeJupyterKernelCrash'>here</a> for more info. \n",
      "\u001b[1;31mView Jupyter <a href='command:jupyter.viewOutput'>log</a> for further details."
     ]
    }
   ],
   "source": [
    "# utility script of destruction\n",
    "\n",
    "for actor in world.get_actors().filter('*vehicle*'):\n",
    "    actor.destroy()\n",
    "for sensor in world.get_actors().filter('*sensor*'):\n",
    "    sensor.destroy()"
   ]
  },
  {
   "cell_type": "code",
   "execution_count": 20,
   "id": "898451eb",
   "metadata": {},
   "outputs": [],
   "source": [
    "# using the code to plan the route and then draw it in the simulator\n",
    "\n",
    "# sampling_resolution = 2\n",
    "# grp = GlobalRoutePlanner(town_map, sampling_resolution)\n",
    "# point_a = carla.Location(x=-64.644844, y=24.471010, z=0.600000)\n",
    "# point_b = carla.Location(x=109.929878, y=-9.334196, z=0.000000)\n",
    "\n",
    "# route = grp.trace_route(point_a, point_b)\n",
    "\n",
    "# for waypoint in route:\n",
    "    # world.debug.draw_string(waypoint[0].transform.location, '^', draw_shadow=False,\n",
    "    # color = carla.Color(r = 0, g = 0, b = 255), life_time = 120,\n",
    "    # persistent_lines = True)"
   ]
  },
  {
   "cell_type": "code",
   "execution_count": 18,
   "id": "4f336c94",
   "metadata": {},
   "outputs": [],
   "source": [
    "# now we define 2 cars\n",
    "truck_bp = world.get_blueprint_library().filter('*firetruck*')\n",
    "mini_bp = world.get_blueprint_library().filter('*cooper_s*')\n",
    "\n",
    "# start first car in already defined start point\n",
    "truck = world.try_spawn_actor(truck_bp[0],start_point)\n"
   ]
  },
  {
   "cell_type": "code",
   "execution_count": 19,
   "id": "8cf90ef5",
   "metadata": {},
   "outputs": [],
   "source": [
    "# tweak spectator position to watch the show\n",
    "\n",
    "spectator = world.get_spectator()\n",
    "spawn_points = world.get_map().get_spawn_points()\n",
    "start_point = spawn_points[0]\n",
    "\n",
    "spectator_pos = carla.Transform(start_point.location + carla.Location(x=20,y=10,z=4),\n",
    "                                carla.Rotation(yaw = start_point.rotation.yaw -155))\n",
    "\n",
    "spectator.set_transform(spectator_pos)\n"
   ]
  },
  {
   "cell_type": "code",
   "execution_count": 20,
   "id": "56441a52",
   "metadata": {},
   "outputs": [],
   "source": [
    "# drop the Mini the sky - watch what happens after\n",
    "\n",
    "#spawn it first somewhere else\n",
    "mini = world.try_spawn_actor(mini_bp[0], spawn_points[10])\n",
    "\n",
    "mini_pos = carla.Transform(start_point.location + carla.Location(x=-4,z=10),\n",
    "                            carla.Rotation(yaw = start_point.rotation.yaw - 0))\n",
    "mini.set_transform(mini_pos)"
   ]
  },
  {
   "cell_type": "code",
   "execution_count": 21,
   "id": "b4055041",
   "metadata": {},
   "outputs": [],
   "source": [
    "import time\n",
    "for actor in world.get_actors().filter('*vehicle*'):\n",
    "    actor.destroy()\n",
    "for sensor in world.get_actors().filter('*sensor*'):\n",
    "    sensor.destroy()\n",
    "# now we define 2 cars\n",
    "truck_bp = world.get_blueprint_library().filter('*firetruck*')\n",
    "mini_bp = world.get_blueprint_library().filter('*cooper_s*')\n",
    "\n",
    "#start first car in alredy defined start point\n",
    "truck = world.try_spawn_actor(truck_bp[0], start_point)\n",
    "time.sleep(3)\n",
    "\n",
    "vw_bp = world.get_blueprint_library().filter('*volkswagen*')\n",
    "\n",
    "vw = world.try_spawn_actor(vw_bp[0], spawn_points[20])\n",
    "vw_pos = carla.Transform(start_point.location + carla.Location(x=1,z=6),\n",
    "                            carla.Rotation(yaw = start_point.rotation.yaw - 0))\n",
    "vw.set_transform(vw_pos)\n",
    "mini = world.try_spawn_actor(mini_bp[0], spawn_points[10])\n",
    "\n",
    "mini_pos = carla.Transform(start_point.location + carla.Location(x=1,z=10),\n",
    "                            carla.Rotation(yaw = start_point.rotation.yaw - 0))\n",
    "mini.set_transform(mini_pos)"
   ]
  },
  {
   "cell_type": "code",
   "execution_count": 22,
   "id": "26d6dc60",
   "metadata": {},
   "outputs": [],
   "source": [
    "vw_bp = world.get_blueprint_library().filter('*volkswagen*')"
   ]
  },
  {
   "cell_type": "code",
   "execution_count": 23,
   "id": "614d93cd",
   "metadata": {},
   "outputs": [
    {
     "name": "stdout",
     "output_type": "stream",
     "text": [
      "[ActorBlueprint(id=vehicle.nissan.micra,tags=[vehicle, nissan, micra]), ActorBlueprint(id=vehicle.audi.a2,tags=[vehicle, audi, a2]), ActorBlueprint(id=static.prop.plantpot04,tags=[static, prop, plantpot04]), ActorBlueprint(id=static.prop.bench02,tags=[bench02, static, prop]), ActorBlueprint(id=vehicle.mercedes.coupe_2020,tags=[vehicle, mercedes, coupe_2020]), ActorBlueprint(id=vehicle.audi.tt,tags=[vehicle, audi, tt]), ActorBlueprint(id=walker.pedestrian.0037,tags=[0037, walker, pedestrian]), ActorBlueprint(id=vehicle.harley-davidson.low_rider,tags=[harley-davidson, vehicle, low_rider]), ActorBlueprint(id=vehicle.bmw.grandtourer,tags=[vehicle, bmw, grandtourer]), ActorBlueprint(id=static.prop.trashcan05,tags=[static, prop, trashcan05]), ActorBlueprint(id=walker.pedestrian.0038,tags=[walker, pedestrian, 0038]), ActorBlueprint(id=vehicle.carlamotors.firetruck,tags=[vehicle, carlamotors, firetruck]), ActorBlueprint(id=vehicle.micro.microlino,tags=[vehicle, microlino, micro]), ActorBlueprint(id=vehicle.carlamotors.carlacola,tags=[vehicle, carlamotors, carlacola]), ActorBlueprint(id=vehicle.carlamotors.european_hgv,tags=[vehicle, carlamotors, european_hgv]), ActorBlueprint(id=vehicle.ford.mustang,tags=[vehicle, ford, mustang]), ActorBlueprint(id=vehicle.chevrolet.impala,tags=[impala, chevrolet, vehicle]), ActorBlueprint(id=vehicle.citroen.c3,tags=[vehicle, c3, citroen]), ActorBlueprint(id=vehicle.dodge.charger_police,tags=[vehicle, charger_police, dodge]), ActorBlueprint(id=vehicle.jeep.wrangler_rubicon,tags=[vehicle, jeep, wrangler_rubicon]), ActorBlueprint(id=static.prop.kiosk_01,tags=[static, prop, kiosk_01]), ActorBlueprint(id=vehicle.mercedes.coupe,tags=[vehicle, mercedes, coupe]), ActorBlueprint(id=static.prop.bike helmet,tags=[static, prop, bike helmet]), ActorBlueprint(id=walker.pedestrian.0046,tags=[0046, walker, pedestrian]), ActorBlueprint(id=vehicle.mini.cooper_s,tags=[vehicle, mini, cooper_s]), ActorBlueprint(id=vehicle.nissan.patrol,tags=[vehicle, nissan, patrol]), ActorBlueprint(id=static.prop.plantpot06,tags=[plantpot06, static, prop]), ActorBlueprint(id=vehicle.seat.leon,tags=[vehicle, seat, leon]), ActorBlueprint(id=vehicle.toyota.prius,tags=[toyota, vehicle, prius]), ActorBlueprint(id=vehicle.yamaha.yzf,tags=[vehicle, yamaha, yzf]), ActorBlueprint(id=vehicle.kawasaki.ninja,tags=[vehicle, kawasaki, ninja]), ActorBlueprint(id=vehicle.bh.crossbike,tags=[bh, vehicle, crossbike]), ActorBlueprint(id=vehicle.gazelle.omafiets,tags=[gazelle, vehicle, omafiets]), ActorBlueprint(id=vehicle.tesla.cybertruck,tags=[vehicle, tesla, cybertruck]), ActorBlueprint(id=vehicle.diamondback.century,tags=[century, vehicle, diamondback]), ActorBlueprint(id=static.prop.barrel,tags=[static, prop, barrel]), ActorBlueprint(id=vehicle.audi.etron,tags=[vehicle, audi, etron]), ActorBlueprint(id=static.prop.streetsign,tags=[streetsign, static, prop]), ActorBlueprint(id=static.prop.plantpot02,tags=[static, prop, plantpot02]), ActorBlueprint(id=vehicle.mitsubishi.fusorosa,tags=[vehicle, mitsubishi, fusorosa]), ActorBlueprint(id=vehicle.tesla.model3,tags=[vehicle, tesla, model3]), ActorBlueprint(id=vehicle.volkswagen.t2,tags=[vehicle, volkswagen, t2]), ActorBlueprint(id=vehicle.lincoln.mkz_2017,tags=[vehicle, mkz_2017, lincoln]), ActorBlueprint(id=static.prop.glasscontainer,tags=[static, prop, glasscontainer]), ActorBlueprint(id=vehicle.lincoln.mkz_2020,tags=[vehicle, lincoln, mkz_2020]), ActorBlueprint(id=vehicle.dodge.charger_2020,tags=[vehicle, dodge, charger_2020]), ActorBlueprint(id=vehicle.dodge.charger_police_2020,tags=[vehicle, dodge, charger_police_2020]), ActorBlueprint(id=vehicle.ford.ambulance,tags=[vehicle, ford, ambulance]), ActorBlueprint(id=vehicle.vespa.zx125,tags=[zx125, vehicle, vespa]), ActorBlueprint(id=static.prop.creasedbox02,tags=[static, prop, creasedbox02]), ActorBlueprint(id=vehicle.mini.cooper_s_2021,tags=[vehicle, mini, cooper_s_2021]), ActorBlueprint(id=walker.pedestrian.0021,tags=[walker, 0021, pedestrian]), ActorBlueprint(id=vehicle.nissan.patrol_2021,tags=[patrol_2021, vehicle, nissan]), ActorBlueprint(id=walker.pedestrian.0031,tags=[walker, pedestrian, 0031]), ActorBlueprint(id=vehicle.mercedes.sprinter,tags=[vehicle, mercedes, sprinter]), ActorBlueprint(id=vehicle.ford.crown,tags=[vehicle, ford, crown]), ActorBlueprint(id=static.prop.pergola,tags=[static, prop, pergola]), ActorBlueprint(id=vehicle.volkswagen.t2_2021,tags=[t2_2021, vehicle, volkswagen]), ActorBlueprint(id=walker.pedestrian.0010,tags=[walker, 0010, pedestrian]), ActorBlueprint(id=sensor.other.collision,tags=[sensor, other, collision]), ActorBlueprint(id=sensor.camera.optical_flow,tags=[sensor, camera, optical_flow]), ActorBlueprint(id=sensor.camera.depth,tags=[sensor, camera, depth]), ActorBlueprint(id=static.prop.ironplank,tags=[static, prop, ironplank]), ActorBlueprint(id=sensor.camera.normals,tags=[normals, sensor, camera]), ActorBlueprint(id=static.prop.warningconstruction,tags=[static, prop, warningconstruction]), ActorBlueprint(id=sensor.camera.dvs,tags=[sensor, camera, dvs]), ActorBlueprint(id=sensor.other.gnss,tags=[sensor, other, gnss]), ActorBlueprint(id=walker.pedestrian.0013,tags=[walker, pedestrian, 0013]), ActorBlueprint(id=sensor.other.imu,tags=[sensor, other, imu]), ActorBlueprint(id=static.prop.platformgarbage01,tags=[static, prop, platformgarbage01]), ActorBlueprint(id=sensor.other.lane_invasion,tags=[lane_invasion, sensor, other]), ActorBlueprint(id=static.prop.doghouse,tags=[static, prop, doghouse]), ActorBlueprint(id=walker.pedestrian.0024,tags=[walker, pedestrian, 0024]), ActorBlueprint(id=sensor.other.obstacle,tags=[sensor, other, obstacle]), ActorBlueprint(id=static.prop.creasedbox01,tags=[static, prop, creasedbox01]), ActorBlueprint(id=sensor.other.radar,tags=[radar, sensor, other]), ActorBlueprint(id=sensor.lidar.ray_cast_semantic,tags=[sensor, lidar, ray_cast_semantic]), ActorBlueprint(id=walker.pedestrian.0007,tags=[walker, pedestrian, 0007]), ActorBlueprint(id=sensor.lidar.ray_cast,tags=[sensor, lidar, ray_cast]), ActorBlueprint(id=static.prop.trashcan03,tags=[static, prop, trashcan03]), ActorBlueprint(id=sensor.other.rss,tags=[rss, sensor, other]), ActorBlueprint(id=util.actor.empty,tags=[util, actor, empty]), ActorBlueprint(id=sensor.camera.rgb,tags=[sensor, camera, rgb]), ActorBlueprint(id=sensor.camera.semantic_segmentation,tags=[sensor, camera, semantic_segmentation]), ActorBlueprint(id=static.prop.dirtdebris02,tags=[static, prop, dirtdebris02]), ActorBlueprint(id=sensor.camera.instance_segmentation,tags=[sensor, camera, instance_segmentation]), ActorBlueprint(id=walker.pedestrian.0001,tags=[walker, pedestrian, 0001]), ActorBlueprint(id=walker.pedestrian.0002,tags=[0002, walker, pedestrian]), ActorBlueprint(id=walker.pedestrian.0003,tags=[walker, 0003, pedestrian]), ActorBlueprint(id=static.prop.atm,tags=[static, prop, atm]), ActorBlueprint(id=walker.pedestrian.0004,tags=[walker, pedestrian, 0004]), ActorBlueprint(id=walker.pedestrian.0005,tags=[walker, pedestrian, 0005]), ActorBlueprint(id=walker.pedestrian.0006,tags=[walker, pedestrian, 0006]), ActorBlueprint(id=static.prop.garbage05,tags=[garbage05, static, prop]), ActorBlueprint(id=walker.pedestrian.0008,tags=[walker, pedestrian, 0008]), ActorBlueprint(id=static.prop.garbage04,tags=[static, garbage04, prop]), ActorBlueprint(id=walker.pedestrian.0009,tags=[walker, pedestrian, 0009]), ActorBlueprint(id=walker.pedestrian.0011,tags=[0011, walker, pedestrian]), ActorBlueprint(id=walker.pedestrian.0012,tags=[walker, pedestrian, 0012]), ActorBlueprint(id=walker.pedestrian.0014,tags=[walker, pedestrian, 0014]), ActorBlueprint(id=walker.pedestrian.0015,tags=[walker, pedestrian, 0015]), ActorBlueprint(id=walker.pedestrian.0016,tags=[walker, pedestrian, 0016]), ActorBlueprint(id=walker.pedestrian.0017,tags=[walker, pedestrian, 0017]), ActorBlueprint(id=walker.pedestrian.0018,tags=[walker, 0018, pedestrian]), ActorBlueprint(id=walker.pedestrian.0019,tags=[0019, walker, pedestrian]), ActorBlueprint(id=static.prop.plasticbag,tags=[plasticbag, static, prop]), ActorBlueprint(id=static.prop.busstop,tags=[static, prop, busstop]), ActorBlueprint(id=walker.pedestrian.0020,tags=[0020, walker, pedestrian]), ActorBlueprint(id=walker.pedestrian.0022,tags=[walker, pedestrian, 0022]), ActorBlueprint(id=static.prop.clothcontainer,tags=[static, prop, clothcontainer]), ActorBlueprint(id=walker.pedestrian.0023,tags=[walker, pedestrian, 0023]), ActorBlueprint(id=walker.pedestrian.0025,tags=[walker, pedestrian, 0025]), ActorBlueprint(id=static.prop.fountain,tags=[static, prop, fountain]), ActorBlueprint(id=walker.pedestrian.0026,tags=[walker, pedestrian, 0026]), ActorBlueprint(id=walker.pedestrian.0027,tags=[walker, pedestrian, 0027]), ActorBlueprint(id=walker.pedestrian.0028,tags=[0028, walker, pedestrian]), ActorBlueprint(id=static.prop.advertisement,tags=[static, prop, advertisement]), ActorBlueprint(id=walker.pedestrian.0029,tags=[walker, 0029, pedestrian]), ActorBlueprint(id=walker.pedestrian.0030,tags=[walker, pedestrian, 0030]), ActorBlueprint(id=static.prop.slide,tags=[static, prop, slide]), ActorBlueprint(id=walker.pedestrian.0032,tags=[walker, pedestrian, 0032]), ActorBlueprint(id=walker.pedestrian.0033,tags=[walker, pedestrian, 0033]), ActorBlueprint(id=walker.pedestrian.0034,tags=[walker, pedestrian, 0034]), ActorBlueprint(id=walker.pedestrian.0035,tags=[walker, pedestrian, 0035]), ActorBlueprint(id=static.prop.colacan,tags=[static, prop, colacan]), ActorBlueprint(id=walker.pedestrian.0036,tags=[walker, 0036, pedestrian]), ActorBlueprint(id=static.prop.trashcan04,tags=[static, prop, trashcan04]), ActorBlueprint(id=static.prop.plastictable,tags=[static, prop, plastictable]), ActorBlueprint(id=walker.pedestrian.0039,tags=[walker, pedestrian, 0039]), ActorBlueprint(id=static.prop.mailbox,tags=[mailbox, static, prop]), ActorBlueprint(id=walker.pedestrian.0040,tags=[walker, pedestrian, 0040]), ActorBlueprint(id=walker.pedestrian.0041,tags=[walker, pedestrian, 0041]), ActorBlueprint(id=walker.pedestrian.0042,tags=[walker, pedestrian, 0042]), ActorBlueprint(id=walker.pedestrian.0043,tags=[walker, pedestrian, 0043]), ActorBlueprint(id=static.prop.swingcouch,tags=[static, prop, swingcouch]), ActorBlueprint(id=walker.pedestrian.0044,tags=[walker, pedestrian, 0044]), ActorBlueprint(id=walker.pedestrian.0045,tags=[walker, pedestrian, 0045]), ActorBlueprint(id=walker.pedestrian.0047,tags=[walker, 0047, pedestrian]), ActorBlueprint(id=walker.pedestrian.0048,tags=[walker, pedestrian, 0048]), ActorBlueprint(id=walker.pedestrian.0049,tags=[walker, pedestrian, 0049]), ActorBlueprint(id=walker.pedestrian.0050,tags=[walker, pedestrian, 0050]), ActorBlueprint(id=static.prop.streetbarrier,tags=[static, prop, streetbarrier]), ActorBlueprint(id=walker.pedestrian.0051,tags=[walker, pedestrian, 0051]), ActorBlueprint(id=static.prop.barbeque,tags=[static, barbeque, prop]), ActorBlueprint(id=static.prop.plantpot07,tags=[static, plantpot07, prop]), ActorBlueprint(id=static.prop.bench01,tags=[static, prop, bench01]), ActorBlueprint(id=static.prop.plantpot05,tags=[static, prop, plantpot05]), ActorBlueprint(id=static.prop.bench03,tags=[static, bench03, prop]), ActorBlueprint(id=static.prop.bin,tags=[static, prop, bin]), ActorBlueprint(id=static.prop.garbage03,tags=[static, prop, garbage03]), ActorBlueprint(id=static.prop.box01,tags=[static, prop, box01]), ActorBlueprint(id=static.prop.box02,tags=[static, prop, box02]), ActorBlueprint(id=static.prop.garbage01,tags=[static, prop, garbage01]), ActorBlueprint(id=static.prop.box03,tags=[static, prop, box03]), ActorBlueprint(id=static.prop.table,tags=[static, prop, table]), ActorBlueprint(id=static.prop.briefcase,tags=[briefcase, static, prop]), ActorBlueprint(id=static.prop.brokentile01,tags=[static, prop, brokentile01]), ActorBlueprint(id=static.prop.brokentile02,tags=[static, prop, brokentile02]), ActorBlueprint(id=static.prop.trafficcone02,tags=[static, prop, trafficcone02]), ActorBlueprint(id=static.prop.brokentile03,tags=[static, prop, brokentile03]), ActorBlueprint(id=static.prop.brokentile04,tags=[static, brokentile04, prop]), ActorBlueprint(id=static.prop.vendingmachine,tags=[vendingmachine, static, prop]), ActorBlueprint(id=static.prop.chainbarrier,tags=[static, prop, chainbarrier]), ActorBlueprint(id=static.prop.chainbarrierend,tags=[static, prop, chainbarrierend]), ActorBlueprint(id=static.prop.shoppingbag,tags=[static, prop, shoppingbag]), ActorBlueprint(id=static.prop.clothesline,tags=[static, prop, clothesline]), ActorBlueprint(id=static.prop.constructioncone,tags=[static, prop, constructioncone]), ActorBlueprint(id=static.prop.container,tags=[static, container, prop]), ActorBlueprint(id=static.prop.creasedbox03,tags=[static, prop, creasedbox03]), ActorBlueprint(id=static.prop.dirtdebris01,tags=[static, prop, dirtdebris01]), ActorBlueprint(id=static.prop.dirtdebris03,tags=[static, prop, dirtdebris03]), ActorBlueprint(id=static.prop.garbage02,tags=[static, prop, garbage02]), ActorBlueprint(id=static.prop.plasticchair,tags=[static, prop, plasticchair]), ActorBlueprint(id=static.prop.garbage06,tags=[static, prop, garbage06]), ActorBlueprint(id=static.prop.calibrator,tags=[static, prop, calibrator]), ActorBlueprint(id=static.prop.gardenlamp,tags=[static, prop, gardenlamp]), ActorBlueprint(id=static.prop.gnome,tags=[static, prop, gnome]), ActorBlueprint(id=static.prop.guitarcase,tags=[guitarcase, static, prop]), ActorBlueprint(id=static.prop.maptable,tags=[maptable, static, prop]), ActorBlueprint(id=static.prop.mobile,tags=[static, prop, mobile]), ActorBlueprint(id=static.prop.plantpot08,tags=[static, prop, plantpot08]), ActorBlueprint(id=static.prop.motorhelmet,tags=[static, prop, motorhelmet]), ActorBlueprint(id=static.prop.plantpot01,tags=[static, prop, plantpot01]), ActorBlueprint(id=static.prop.plantpot03,tags=[static, prop, plantpot03]), ActorBlueprint(id=static.prop.purse,tags=[static, purse, prop]), ActorBlueprint(id=static.prop.shoppingcart,tags=[static, prop, shoppingcart]), ActorBlueprint(id=static.prop.shoppingtrolley,tags=[static, prop, shoppingtrolley]), ActorBlueprint(id=static.prop.streetsign01,tags=[static, streetsign01, prop]), ActorBlueprint(id=static.prop.haybalelb,tags=[static, prop, haybalelb]), ActorBlueprint(id=static.prop.streetsign04,tags=[static, prop, streetsign04]), ActorBlueprint(id=static.prop.streetfountain,tags=[static, prop, streetfountain]), ActorBlueprint(id=static.prop.swing,tags=[static, prop, swing]), ActorBlueprint(id=static.prop.trafficcone01,tags=[static, prop, trafficcone01]), ActorBlueprint(id=static.prop.trafficwarning,tags=[static, prop, trafficwarning]), ActorBlueprint(id=static.prop.trampoline,tags=[static, prop, trampoline]), ActorBlueprint(id=static.prop.trashbag,tags=[static, prop, trashbag]), ActorBlueprint(id=static.prop.trashcan01,tags=[static, prop, trashcan01]), ActorBlueprint(id=static.prop.trashcan02,tags=[static, prop, trashcan02]), ActorBlueprint(id=static.prop.travelcase,tags=[static, prop, travelcase]), ActorBlueprint(id=static.prop.wateringcan,tags=[static, prop, wateringcan]), ActorBlueprint(id=static.prop.foodcart,tags=[foodcart, static, prop]), ActorBlueprint(id=static.prop.haybale,tags=[haybale, static, prop]), ActorBlueprint(id=static.prop.busstoplb,tags=[static, prop, busstoplb]), ActorBlueprint(id=static.prop.mesh,tags=[static, prop, mesh]), ActorBlueprint(id=static.prop.warningaccident,tags=[static, prop, warningaccident]), ActorBlueprint(id=static.trigger.friction,tags=[friction, trigger, static]), ActorBlueprint(id=controller.ai.walker,tags=[controller, walker, ai])]\n"
     ]
    }
   ],
   "source": [
    "vehicle_all = world.get_blueprint_library()\n",
    "print(vehicle_all)"
   ]
  },
  {
   "cell_type": "code",
   "execution_count": null,
   "id": "cd133cf7",
   "metadata": {},
   "outputs": [],
   "source": []
  }
 ],
 "metadata": {
  "kernelspec": {
   "display_name": "tf",
   "language": "python",
   "name": "python3"
  },
  "language_info": {
   "codemirror_mode": {
    "name": "ipython",
    "version": 3
   },
   "file_extension": ".py",
   "mimetype": "text/x-python",
   "name": "python",
   "nbconvert_exporter": "python",
   "pygments_lexer": "ipython3",
   "version": "3.10.13"
  }
 },
 "nbformat": 4,
 "nbformat_minor": 5
}
