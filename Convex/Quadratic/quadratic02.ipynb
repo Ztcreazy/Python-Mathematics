{
 "cells": [
  {
   "cell_type": "code",
   "execution_count": 1,
   "metadata": {},
   "outputs": [],
   "source": [
    "from qiskit_optimization import QuadraticProgram\n",
    "from qiskit_optimization.translators.docplex_mp import to_docplex_mp"
   ]
  },
  {
   "cell_type": "code",
   "execution_count": 2,
   "metadata": {},
   "outputs": [
    {
     "name": "stdout",
     "output_type": "stream",
     "text": [
      "Problem name: \n",
      "\n",
      "Maximize\n",
      "  3*x + 2*y + z\n",
      "\n",
      "Subject to\n",
      "  Linear constraints (2)\n",
      "    x + y + z <= 5.5  'xyz_leq'\n",
      "    x + y + z >= 2.5  'xyz_geq'\n",
      "\n",
      "  Integer variables (1)\n",
      "    0 <= z <= 7\n",
      "\n",
      "  Binary variables (2)\n",
      "    x y\n",
      "\n"
     ]
    }
   ],
   "source": [
    "qp = QuadraticProgram()\n",
    "qp.binary_var(\"x\")\n",
    "qp.binary_var(\"y\")\n",
    "qp.integer_var(lowerbound=0, upperbound=7, name=\"z\")\n",
    "\n",
    "qp.maximize(linear={\"x\": 3, \"y\": 2, \"z\": 1})\n",
    "qp.linear_constraint(linear={\"x\": 1, \"y\": 1, \"z\": 1}, sense=\"LE\", rhs=5.5, name=\"xyz_leq\")\n",
    "qp.linear_constraint(linear={\"x\": 1, \"y\": 1, \"z\": 1}, sense=\"GE\", rhs=2.5, name=\"xyz_geq\")\n",
    "print(qp.prettyprint())"
   ]
  },
  {
   "cell_type": "code",
   "execution_count": 3,
   "metadata": {},
   "outputs": [],
   "source": [
    "from qiskit_optimization.converters import InequalityToEquality"
   ]
  },
  {
   "cell_type": "code",
   "execution_count": 4,
   "metadata": {},
   "outputs": [
    {
     "name": "stdout",
     "output_type": "stream",
     "text": [
      "Problem name: \n",
      "\n",
      "Maximize\n",
      "  3*x + 2*y + z\n",
      "\n",
      "Subject to\n",
      "  Linear constraints (2)\n",
      "    x + xyz_leq@int_slack + y + z == 5  'xyz_leq'\n",
      "    x - xyz_geq@int_slack + y + z == 3  'xyz_geq'\n",
      "\n",
      "  Integer variables (3)\n",
      "    0 <= z <= 7\n",
      "    0 <= xyz_leq@int_slack <= 5\n",
      "    0 <= xyz_geq@int_slack <= 6\n",
      "\n",
      "  Binary variables (2)\n",
      "    x y\n",
      "\n"
     ]
    }
   ],
   "source": [
    "ineq2eq = InequalityToEquality()\n",
    "qp_eq = ineq2eq.convert(qp)\n",
    "print(qp_eq.prettyprint())"
   ]
  },
  {
   "cell_type": "code",
   "execution_count": 5,
   "metadata": {},
   "outputs": [],
   "source": [
    "from qiskit_optimization.algorithms import CplexOptimizer\n",
    "\n",
    "cplex_optimizer = CplexOptimizer()"
   ]
  },
  {
   "cell_type": "code",
   "execution_count": 6,
   "metadata": {},
   "outputs": [
    {
     "name": "stdout",
     "output_type": "stream",
     "text": [
      "fval=8.0, x=1.0, y=1.0, z=3.0, status=SUCCESS\n"
     ]
    }
   ],
   "source": [
    "result_orig = cplex_optimizer.solve(qp)\n",
    "print(result_orig)"
   ]
  },
  {
   "cell_type": "code",
   "execution_count": 7,
   "metadata": {},
   "outputs": [
    {
     "name": "stdout",
     "output_type": "stream",
     "text": [
      "fval=8.0, x=1.0, y=1.0, z=3.0, xyz_leq@int_slack=0.0, xyz_geq@int_slack=2.0, status=SUCCESS\n"
     ]
    }
   ],
   "source": [
    "result_eq = cplex_optimizer.solve(qp_eq)\n",
    "print(result_eq)"
   ]
  },
  {
   "cell_type": "code",
   "execution_count": 8,
   "metadata": {},
   "outputs": [
    {
     "name": "stdout",
     "output_type": "stream",
     "text": [
      "interpreting values of result_eq: [1. 1. 3.]\n",
      "values of result_orig: [1. 1. 3.]\n"
     ]
    }
   ],
   "source": [
    "print(\"interpreting values of result_eq:\", ineq2eq.interpret(result_eq.x))\n",
    "print(\"values of result_orig:\", result_orig.x)"
   ]
  }
 ],
 "metadata": {
  "kernelspec": {
   "display_name": "base",
   "language": "python",
   "name": "python3"
  },
  "language_info": {
   "codemirror_mode": {
    "name": "ipython",
    "version": 3
   },
   "file_extension": ".py",
   "mimetype": "text/x-python",
   "name": "python",
   "nbconvert_exporter": "python",
   "pygments_lexer": "ipython3",
   "version": "3.10.13"
  }
 },
 "nbformat": 4,
 "nbformat_minor": 2
}
